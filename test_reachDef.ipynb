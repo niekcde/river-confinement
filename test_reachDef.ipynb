{
 "cells": [
  {
   "cell_type": "code",
   "execution_count": 1,
   "metadata": {},
   "outputs": [],
   "source": [
    "%load_ext autoreload\n",
    "%autoreload 2\n",
    "import geopandas as gpd\n",
    "directory = '/scratch/6256481/'\n",
    "\n",
    "\n",
    "import sys\n",
    "sys.path.insert(0, directory + f'python/py_code/')\n",
    "\n",
    "\n",
    "##########################################\n",
    "# import packages\n",
    "##########################################\n",
    "import geopandas as gpd\n",
    "import pandas as pd\n",
    "import numpy as np\n",
    "import shapely\n",
    "import networkx as nx \n",
    "import itertools \n",
    "import os\n",
    "\n",
    "##########################################\n",
    "# partial modules\n",
    "##########################################\n",
    "from shapely.geometry import Point, LineString\n",
    "from tqdm import tqdm\n",
    "from glob import glob\n",
    "\n",
    "##########################################\n",
    "# function typecasting\n",
    "##########################################\n",
    "from typing import List, Tuple\n",
    "\n",
    "##########################################\n",
    "# import custom modules\n",
    "##########################################\n",
    "from support import get_local_utm_projection, find_connected_side\n",
    "from line_functions import azimuth\n",
    "\n",
    "##########################################\n",
    "# impport reach DEF\n",
    "##########################################\n",
    "from reach_definition import *\n",
    "\n",
    "\n",
    "\n"
   ]
  },
  {
   "cell_type": "markdown",
   "metadata": {},
   "source": [
    "# open File"
   ]
  },
  {
   "cell_type": "code",
   "execution_count": 15,
   "metadata": {},
   "outputs": [
    {
     "data": {
      "text/plain": [
       "'/scratch/6256481/input/SWOT_vector/oc_sword_reaches_v17.gpkg'"
      ]
     },
     "execution_count": 15,
     "metadata": {},
     "output_type": "execute_result"
    }
   ],
   "source": [
    "vectorFile = np.sort(glob(directory +f'input/SWOT_vector/*reach*v17*.gpkg'))\n",
    "nodeFile   = np.sort(glob(directory +f'input/SWOT_nodes/*node*v17*.gpkg'))\n",
    "vectorFile[-2]"
   ]
  },
  {
   "cell_type": "code",
   "execution_count": 3,
   "metadata": {},
   "outputs": [
    {
     "name": "stderr",
     "output_type": "stream",
     "text": [
      "ERROR 1: PROJ: proj_create_from_database: Open of /home/6256481/.conda/envs/RivAlg10/share/proj failed\n"
     ]
    }
   ],
   "source": [
    "dfIn     = gpd.read_file(vectorFile[-2])\n",
    "dfNodeIn = gpd.read_file(nodeFile[-2])"
   ]
  },
  {
   "cell_type": "markdown",
   "metadata": {},
   "source": [
    "# test reach def"
   ]
  },
  {
   "cell_type": "code",
   "execution_count": 4,
   "metadata": {},
   "outputs": [],
   "source": [
    "min_reach_len_factor = 12*4"
   ]
  },
  {
   "cell_type": "code",
   "execution_count": 5,
   "metadata": {},
   "outputs": [],
   "source": [
    "df, dfNode       = filter_SWORD_input(dfIn, dfNodeIn)"
   ]
  },
  {
   "cell_type": "code",
   "execution_count": 6,
   "metadata": {},
   "outputs": [],
   "source": [
    "# select only included reaches for junction nodes\n",
    "dfNodeConnection = get_connection_nodes(df[df['include_flag'] == '0'])"
   ]
  },
  {
   "cell_type": "code",
   "execution_count": 7,
   "metadata": {},
   "outputs": [],
   "source": [
    "############################################\n",
    "# Create downstream connection. Loop over all included reaches\n",
    "############################################\n",
    "wrongNormalReaches, wrongHOReaches = [], []\n",
    "for i, r in df[df['include_flag'] == '0'].iterrows():\n",
    "    IND = df[df.reach_id == r.reach_id].index[0]\n",
    "    dn_reach, wrongNormal, wrongHO = get_connected_reach(r, 'dn', df, dfNode, dfNodeConnection)\n",
    "    df.loc[IND, 'dn_connected_reach'] = dn_reach\n",
    "    wrongNormalReaches.append(wrongNormal)\n",
    "    wrongHOReaches.append(wrongHO)\n",
    "df['dn_connected_reach'] = df['dn_connected_reach'].astype(float)\n",
    "\n",
    "\n",
    "wrongNormalReaches =  dfNodeConnection[dfNodeConnection.Node_id.isin(wrongNormalReaches)].reach_id.values\n",
    "wrongHOReaches = np.array(wrongHOReaches)\n",
    "wrongHOReaches = wrongHOReaches[~np.isnan(wrongHOReaches)].astype(int)"
   ]
  },
  {
   "cell_type": "code",
   "execution_count": 8,
   "metadata": {},
   "outputs": [],
   "source": [
    "############################################\n",
    "# add river segment ID to dataframe\n",
    "############################################\n",
    "# create edges from down stream connections. \n",
    "        # Do not include reaches with no downstream connection, or with include_flag not 0\n",
    "edges = df[['reach_id', 'dn_connected_reach']]\n",
    "notIncludeReaches = df[df.include_flag != '0'].reach_id.values\n",
    "edges = edges[(~edges['dn_connected_reach'].isna()) & \n",
    "                (~edges['reach_id'].isin(notIncludeReaches)) & \n",
    "                (~edges['dn_connected_reach'].isin(notIncludeReaches))\n",
    "                ].values\n",
    "\n",
    "# create network from networkx to create all separate river segments\n",
    "G = nx.Graph()\n",
    "G.add_edges_from(edges)\n",
    "\n",
    "# create dataframe with river segments \n",
    "riverSegments   = list(nx.connected_components(G)) # all individual connected segments\n",
    "dfriverSegments = pd.DataFrame(riverSegments)\n",
    "dfriverSegments = dfriverSegments.unstack().reset_index(name='reach_id')[['level_1', 'reach_id']]\n",
    "dfriverSegments = dfriverSegments.sort_values('level_1').dropna().rename(columns={\"level_1\": \"river_segment\"})\n",
    "# merge river segments with main dataframe\n",
    "df = df.merge(dfriverSegments, on = 'reach_id', how = 'left')\n",
    "# give each row a river_segment value. For reaches without value create new values\n",
    "df.loc[df['river_segment'].isna(), 'river_segment'] = np.arange(df[df['river_segment'].isna()].shape[0]) + df['river_segment'].max() + 1\n"
   ]
  },
  {
   "cell_type": "code",
   "execution_count": 9,
   "metadata": {},
   "outputs": [],
   "source": [
    "\n",
    "############################################\n",
    "# add river segment ID to dataframe\n",
    "############################################\n",
    "df, dfNode = split_river_segments(df, dfNode, min_reach_len_factor)\n",
    "\n",
    "# find downstream river segment\n",
    "df = find_dn_river_segment(df)\n"
   ]
  },
  {
   "cell_type": "code",
   "execution_count": 10,
   "metadata": {},
   "outputs": [],
   "source": [
    "############################################\n",
    "# remove lakeflags\n",
    "############################################\n",
    "def remove_lakeflag_ends(x):\n",
    "    # Create a copy of the array for iteration\n",
    "        arrIndices = np.arange(len(x))\n",
    "        arrRemove = arrIndices.copy()\n",
    "        for i in range(len(x)):\n",
    "            if x[0] == 1:\n",
    "                x = np.delete(x, 0)\n",
    "                arrIndices = np.delete(arrIndices, 0)\n",
    "            elif x[-1] == 1:\n",
    "                x = np.delete(x, -1)\n",
    "                arrIndices = np.delete(arrIndices, -1)\n",
    "            else:\n",
    "                # Stop the loop if condition is not satisfied\n",
    "                break\n",
    "        arrRemove = np.delete(arrRemove, arrIndices)\n",
    "        return arrRemove\n",
    "\n",
    "# group by combined reaches and take mean of lakeflag id and check if combined reach contains lakeflag with value 1\n",
    "groupedLakeflag = df.groupby('combined_reach_id',as_index = False).agg(\n",
    "                                mean_lake_flag=('lakeflag', 'mean'),\n",
    "                                partial_lake =('lakeflag', lambda x: 1 in x.values))\n",
    "# select all combined reaches with only lakeflag 1 reaches\n",
    "lakes         = groupedLakeflag[(groupedLakeflag['mean_lake_flag'] % 1 == 0) & (groupedLakeflag['mean_lake_flag'] == 1)]['combined_reach_id'].values\n",
    "\n",
    "# combined reaches partially existing of lakeflags\n",
    "partial_lakes = groupedLakeflag[(groupedLakeflag['mean_lake_flag'] % 1 != 0) & (groupedLakeflag['partial_lake'] == True)]\n",
    "\n",
    "# select lakes at the endpoint of a combined reach\n",
    "removeReaches = []\n",
    "for cr in partial_lakes['combined_reach_id'].values:\n",
    "    pl = df[df['combined_reach_id'] == cr].sort_values('reach_order')\n",
    "\n",
    "    removeLake = remove_lakeflag_ends(pl['lakeflag'].values)\n",
    "    removeReaches.extend(pl.iloc[removeLake].reach_id.values)\n",
    "\n",
    "# update include flag identified reaches\n",
    "removeReaches.extend(lakes)\n",
    "df = update_include_flag(df, removeReaches, '3')\n",
    "\n",
    "# remove lakes and partial lakes from combined_reach_id and assign new combined\n",
    "df.loc[df['include_flag'] == '3', 'combined_reach_id'] = np.arange(df[df['include_flag'] == '3'].shape[0]) + df['combined_reach_id'].max() + 1\n"
   ]
  },
  {
   "cell_type": "code",
   "execution_count": 11,
   "metadata": {},
   "outputs": [],
   "source": [
    "############################################\n",
    "# remove short reaches?\n",
    "############################################\n",
    "# remove reaches shorter than minimal requirement! 12*4*30\n",
    "df['combined_reach_len']   = df.groupby('combined_reach_id')['reach_len'].transform('sum')\n",
    "df['combined_reach_width'] = df.groupby('combined_reach_id')['width'].transform('mean')\n",
    "\n",
    "dfNode['combined_reach_max_width'] = dfNode.groupby('combined_reach_id')['max_width'].transform('mean')\n",
    "nmw = dfNode.groupby('combined_reach_id', as_index = False)['max_width'].mean()\n",
    "nmw = nmw.rename(columns = {'max_width':'combined_reach_max_width'})\n",
    "df = df.merge(nmw, on = 'combined_reach_id', how = 'left')\n",
    "\n",
    "shortReaches = df.loc[df['combined_reach_len'] < min_reach_len_factor*30, 'reach_id'].values\n",
    "df = update_include_flag(df, shortReaches, '4')\n"
   ]
  },
  {
   "cell_type": "code",
   "execution_count": 12,
   "metadata": {},
   "outputs": [],
   "source": [
    "############################################\n",
    "# remove missing Up, Down, dn_connected reaches\n",
    "############################################\n",
    "dfA = remove_updn_connection(df, True)\n"
   ]
  },
  {
   "cell_type": "code",
   "execution_count": 13,
   "metadata": {},
   "outputs": [],
   "source": [
    "############################################\n",
    "# change values for reach_order after removal of reaches\n",
    "############################################\n",
    "for cr in df.combined_reach_id.unique(): \n",
    "    rows = df[df.combined_reach_id == cr]\n",
    "    rows = rows.sort_values('reach_order')\n",
    "    df.loc[rows.index, 'reach_order'] = np.arange(rows.shape[0])\n"
   ]
  },
  {
   "cell_type": "code",
   "execution_count": 14,
   "metadata": {},
   "outputs": [],
   "source": [
    "\n",
    "############################################\n",
    "# add include_flag to dfNode\n",
    "############################################\n",
    "dfIncludeFlag = df[['reach_id', 'include_flag']].copy()\n",
    "dfNode = dfNode.merge(dfIncludeFlag, on = 'reach_id', how = 'left')\n",
    "    "
   ]
  },
  {
   "cell_type": "code",
   "execution_count": 20,
   "metadata": {},
   "outputs": [],
   "source": [
    "df =  split_files(df, 5000)"
   ]
  },
  {
   "cell_type": "code",
   "execution_count": 28,
   "metadata": {},
   "outputs": [
    {
     "data": {
      "text/plain": [
       "15089"
      ]
     },
     "execution_count": 28,
     "metadata": {},
     "output_type": "execute_result"
    }
   ],
   "source": [
    "df.shape[0]"
   ]
  },
  {
   "cell_type": "code",
   "execution_count": 27,
   "metadata": {},
   "outputs": [
    {
     "data": {
      "application/vnd.microsoft.datawrangler.viewer.v0+json": {
       "columns": [
        {
         "name": "index",
         "rawType": "int64",
         "type": "integer"
        },
        {
         "name": "path_segs",
         "rawType": "int64",
         "type": "integer"
        },
        {
         "name": "pfaf2",
         "rawType": "int64",
         "type": "integer"
        },
        {
         "name": "size",
         "rawType": "int64",
         "type": "integer"
        }
       ],
       "conversionMethod": "pd.DataFrame",
       "ref": "20f43875-5f16-4ff9-9c4d-589673f13edf",
       "rows": [
        [
         "0",
         "1",
         "1",
         "5"
        ],
        [
         "1",
         "1",
         "2",
         "16"
        ],
        [
         "2",
         "1",
         "3",
         "12"
        ],
        [
         "3",
         "1",
         "5",
         "8"
        ],
        [
         "4",
         "1",
         "6",
         "15"
        ],
        [
         "5",
         "1",
         "7",
         "13"
        ],
        [
         "6",
         "2",
         "1",
         "10"
        ],
        [
         "7",
         "2",
         "2",
         "4"
        ],
        [
         "8",
         "2",
         "3",
         "9"
        ],
        [
         "9",
         "2",
         "5",
         "4"
        ],
        [
         "10",
         "2",
         "6",
         "27"
        ],
        [
         "11",
         "2",
         "7",
         "11"
        ],
        [
         "12",
         "3",
         "1",
         "2"
        ],
        [
         "13",
         "3",
         "2",
         "4"
        ],
        [
         "14",
         "3",
         "3",
         "4"
        ],
        [
         "15",
         "3",
         "5",
         "2"
        ],
        [
         "16",
         "3",
         "6",
         "12"
        ],
        [
         "17",
         "3",
         "7",
         "27"
        ],
        [
         "18",
         "4",
         "1",
         "5"
        ],
        [
         "19",
         "4",
         "2",
         "2"
        ],
        [
         "20",
         "4",
         "3",
         "6"
        ],
        [
         "21",
         "4",
         "5",
         "1"
        ],
        [
         "22",
         "4",
         "6",
         "1"
        ],
        [
         "23",
         "4",
         "7",
         "8"
        ],
        [
         "24",
         "5",
         "1",
         "7"
        ],
        [
         "25",
         "5",
         "2",
         "1"
        ],
        [
         "26",
         "5",
         "3",
         "8"
        ],
        [
         "27",
         "5",
         "5",
         "5"
        ],
        [
         "28",
         "5",
         "6",
         "28"
        ],
        [
         "29",
         "5",
         "7",
         "3"
        ],
        [
         "30",
         "6",
         "1",
         "1"
        ],
        [
         "31",
         "6",
         "2",
         "11"
        ],
        [
         "32",
         "6",
         "3",
         "24"
        ],
        [
         "33",
         "6",
         "5",
         "3"
        ],
        [
         "34",
         "6",
         "6",
         "5"
        ],
        [
         "35",
         "6",
         "7",
         "7"
        ],
        [
         "36",
         "7",
         "1",
         "6"
        ],
        [
         "37",
         "7",
         "2",
         "5"
        ],
        [
         "38",
         "7",
         "3",
         "7"
        ],
        [
         "39",
         "7",
         "5",
         "3"
        ],
        [
         "40",
         "7",
         "6",
         "69"
        ],
        [
         "41",
         "7",
         "7",
         "5"
        ],
        [
         "42",
         "8",
         "1",
         "6"
        ],
        [
         "43",
         "8",
         "2",
         "3"
        ],
        [
         "44",
         "8",
         "3",
         "6"
        ],
        [
         "45",
         "8",
         "5",
         "2"
        ],
        [
         "46",
         "8",
         "6",
         "69"
        ],
        [
         "47",
         "8",
         "7",
         "11"
        ],
        [
         "48",
         "9",
         "1",
         "6"
        ],
        [
         "49",
         "9",
         "2",
         "8"
        ]
       ],
       "shape": {
        "columns": 3,
        "rows": 2680
       }
      },
      "text/html": [
       "<div>\n",
       "<style scoped>\n",
       "    .dataframe tbody tr th:only-of-type {\n",
       "        vertical-align: middle;\n",
       "    }\n",
       "\n",
       "    .dataframe tbody tr th {\n",
       "        vertical-align: top;\n",
       "    }\n",
       "\n",
       "    .dataframe thead th {\n",
       "        text-align: right;\n",
       "    }\n",
       "</style>\n",
       "<table border=\"1\" class=\"dataframe\">\n",
       "  <thead>\n",
       "    <tr style=\"text-align: right;\">\n",
       "      <th></th>\n",
       "      <th>path_segs</th>\n",
       "      <th>pfaf2</th>\n",
       "      <th>size</th>\n",
       "    </tr>\n",
       "  </thead>\n",
       "  <tbody>\n",
       "    <tr>\n",
       "      <th>0</th>\n",
       "      <td>1</td>\n",
       "      <td>1</td>\n",
       "      <td>5</td>\n",
       "    </tr>\n",
       "    <tr>\n",
       "      <th>1</th>\n",
       "      <td>1</td>\n",
       "      <td>2</td>\n",
       "      <td>16</td>\n",
       "    </tr>\n",
       "    <tr>\n",
       "      <th>2</th>\n",
       "      <td>1</td>\n",
       "      <td>3</td>\n",
       "      <td>12</td>\n",
       "    </tr>\n",
       "    <tr>\n",
       "      <th>3</th>\n",
       "      <td>1</td>\n",
       "      <td>5</td>\n",
       "      <td>8</td>\n",
       "    </tr>\n",
       "    <tr>\n",
       "      <th>4</th>\n",
       "      <td>1</td>\n",
       "      <td>6</td>\n",
       "      <td>15</td>\n",
       "    </tr>\n",
       "    <tr>\n",
       "      <th>...</th>\n",
       "      <td>...</td>\n",
       "      <td>...</td>\n",
       "      <td>...</td>\n",
       "    </tr>\n",
       "    <tr>\n",
       "      <th>2675</th>\n",
       "      <td>978</td>\n",
       "      <td>6</td>\n",
       "      <td>7</td>\n",
       "    </tr>\n",
       "    <tr>\n",
       "      <th>2676</th>\n",
       "      <td>979</td>\n",
       "      <td>6</td>\n",
       "      <td>1</td>\n",
       "    </tr>\n",
       "    <tr>\n",
       "      <th>2677</th>\n",
       "      <td>980</td>\n",
       "      <td>6</td>\n",
       "      <td>1</td>\n",
       "    </tr>\n",
       "    <tr>\n",
       "      <th>2678</th>\n",
       "      <td>981</td>\n",
       "      <td>6</td>\n",
       "      <td>1</td>\n",
       "    </tr>\n",
       "    <tr>\n",
       "      <th>2679</th>\n",
       "      <td>983</td>\n",
       "      <td>6</td>\n",
       "      <td>3</td>\n",
       "    </tr>\n",
       "  </tbody>\n",
       "</table>\n",
       "<p>2680 rows × 3 columns</p>\n",
       "</div>"
      ],
      "text/plain": [
       "      path_segs  pfaf2  size\n",
       "0             1      1     5\n",
       "1             1      2    16\n",
       "2             1      3    12\n",
       "3             1      5     8\n",
       "4             1      6    15\n",
       "...         ...    ...   ...\n",
       "2675        978      6     7\n",
       "2676        979      6     1\n",
       "2677        980      6     1\n",
       "2678        981      6     1\n",
       "2679        983      6     3\n",
       "\n",
       "[2680 rows x 3 columns]"
      ]
     },
     "execution_count": 27,
     "metadata": {},
     "output_type": "execute_result"
    }
   ],
   "source": [
    "df.groupby(['path_segs', 'pfaf2'], as_index = False).size()"
   ]
  },
  {
   "cell_type": "code",
   "execution_count": 29,
   "metadata": {},
   "outputs": [
    {
     "name": "stdout",
     "output_type": "stream",
     "text": [
      "Error no upstream end point detected\n",
      "Error no upstream end point detected\n",
      "Error no upstream end point detected\n",
      "Error no upstream end point detected\n",
      "Error no upstream end point detected\n",
      "Error no upstream end point detected\n",
      "Error no upstream end point detected\n",
      "Error no upstream end point detected\n",
      "Error no upstream end point detected\n",
      "Error no upstream end point detected\n",
      "Error no upstream end point detected\n",
      "Error no upstream end point detected\n",
      "Error no upstream end point detected\n",
      "Error no upstream end point detected\n",
      "Error no upstream end point detected\n",
      "Error no upstream end point detected\n",
      "Error no upstream end point detected\n",
      "Error no upstream end point detected\n",
      "Error no upstream end point detected\n",
      "Error no upstream end point detected\n",
      "Error no upstream end point detected\n",
      "Error no upstream end point detected\n"
     ]
    }
   ],
   "source": [
    "dfA = river_catchment_position(df)"
   ]
  },
  {
   "cell_type": "code",
   "execution_count": 26,
   "metadata": {},
   "outputs": [],
   "source": [
    "save = True\n",
    "if save == True:\n",
    "    dfSave = df.copy()                                         \n",
    "    \n",
    "    dfSave = split_files(dfSave, 5000)\n",
    "    dfSave[['rch_id_up', 'rch_id_dn', \n",
    "            'rch_id_up_orig', 'rch_id_dn_orig']] = dfSave[['rch_id_up', 'rch_id_dn',\n",
    "                                                           'rch_id_up_orig', 'rch_id_dn_orig']].astype(str)\n",
    "               \n",
    "    for group in dfSave['networkGroup'].unique():\n",
    "        dfGroupSave = dfSave[dfSave['networkGroup'] == group]\n",
    "        dfNodeSave = dfNode[dfNode.reach_id.isin(dfGroupSave.reach_id.values)]\n",
    "        groupString = f'{group}'\n",
    "        if group < 10:\n",
    "            groupString =  f'0{groupString}'\n",
    "        \n",
    "        # dfGroupSave.to_file(directory + f'results/new_segments/vector/{fileName}_{groupString}_reach_new_segments.gpkg', driver = 'GPKG')\n",
    "        # dfNodeSave.to_file(directory + f'results/new_segments/node/{fileName}_{groupString}_node_new_segments.gpkg', driver = 'GPKG')\n"
   ]
  },
  {
   "cell_type": "code",
   "execution_count": 48,
   "metadata": {},
   "outputs": [
    {
     "data": {
      "text/plain": [
       "array([], dtype=int64)"
      ]
     },
     "execution_count": 48,
     "metadata": {},
     "output_type": "execute_result"
    }
   ],
   "source": [
    "dfSave.loc[dfSave['networkGroup'] == -1, ['reach_id', 'rch_id_up_orig','rch_id_dn_orig']].reach_id.values"
   ]
  },
  {
   "cell_type": "code",
   "execution_count": 49,
   "metadata": {},
   "outputs": [
    {
     "ename": "AttributeError",
     "evalue": "'NoneType' object has no attribute 'copy'",
     "output_type": "error",
     "traceback": [
      "\u001b[0;31m---------------------------------------------------------------------------\u001b[0m",
      "\u001b[0;31mAttributeError\u001b[0m                            Traceback (most recent call last)",
      "File \u001b[0;32m~/.conda/envs/RivAlg10/lib/python3.12/site-packages/IPython/core/formatters.py:343\u001b[0m, in \u001b[0;36mBaseFormatter.__call__\u001b[0;34m(self, obj)\u001b[0m\n\u001b[1;32m    341\u001b[0m     \u001b[38;5;28;01mpass\u001b[39;00m\n\u001b[1;32m    342\u001b[0m \u001b[38;5;28;01melse\u001b[39;00m:\n\u001b[0;32m--> 343\u001b[0m     \u001b[38;5;28;01mreturn\u001b[39;00m \u001b[43mprinter\u001b[49m\u001b[43m(\u001b[49m\u001b[43mobj\u001b[49m\u001b[43m)\u001b[49m\n\u001b[1;32m    344\u001b[0m \u001b[38;5;66;03m# Finally look for special method names\u001b[39;00m\n\u001b[1;32m    345\u001b[0m method \u001b[38;5;241m=\u001b[39m get_real_method(obj, \u001b[38;5;28mself\u001b[39m\u001b[38;5;241m.\u001b[39mprint_method)\n",
      "Cell \u001b[0;32mIn[2], line 227\u001b[0m, in \u001b[0;36m__DW_OUTPUT_FORMATTER__.<locals>.DataWrangler.formatter\u001b[0;34m(cls, var, **kwargs)\u001b[0m\n\u001b[1;32m    225\u001b[0m \u001b[38;5;129m@classmethod\u001b[39m\n\u001b[1;32m    226\u001b[0m \u001b[38;5;28;01mdef\u001b[39;00m \u001b[38;5;21mformatter\u001b[39m(\u001b[38;5;28mcls\u001b[39m, var, \u001b[38;5;241m*\u001b[39m\u001b[38;5;241m*\u001b[39mkwargs):\n\u001b[0;32m--> 227\u001b[0m     s \u001b[38;5;241m=\u001b[39m \u001b[38;5;28;43mcls\u001b[39;49m\u001b[43m(\u001b[49m\u001b[43mvar\u001b[49m\u001b[43m,\u001b[49m\u001b[43m \u001b[49m\u001b[38;5;241;43m*\u001b[39;49m\u001b[38;5;241;43m*\u001b[39;49m\u001b[43mkwargs\u001b[49m\u001b[43m)\u001b[49m\n\u001b[1;32m    228\u001b[0m     \u001b[38;5;28;01mreturn\u001b[39;00m s\u001b[38;5;241m.\u001b[39m_repr_dw_()\n",
      "Cell \u001b[0;32mIn[2], line 221\u001b[0m, in \u001b[0;36m__DW_OUTPUT_FORMATTER__.<locals>.DataWrangler.__init__\u001b[0;34m(self, expr_val)\u001b[0m\n\u001b[1;32m    218\u001b[0m \u001b[38;5;28mself\u001b[39m\u001b[38;5;241m.\u001b[39mid \u001b[38;5;241m=\u001b[39m \u001b[38;5;28mstr\u001b[39m(uuid\u001b[38;5;241m.\u001b[39muuid4())\n\u001b[1;32m    219\u001b[0m pandas_df, conversion_method \u001b[38;5;241m=\u001b[39m api[\u001b[38;5;124m\"\u001b[39m\u001b[38;5;124mpandas_transport\u001b[39m\u001b[38;5;124m\"\u001b[39m][\u001b[38;5;124m\"\u001b[39m\u001b[38;5;124mconvert_to_pandas\u001b[39m\u001b[38;5;124m\"\u001b[39m](expr_val)\n\u001b[1;32m    220\u001b[0m tmp_vars[\u001b[38;5;28mself\u001b[39m\u001b[38;5;241m.\u001b[39mid] \u001b[38;5;241m=\u001b[39m {\n\u001b[0;32m--> 221\u001b[0m     \u001b[38;5;124m\"\u001b[39m\u001b[38;5;124mconverted\u001b[39m\u001b[38;5;124m\"\u001b[39m: \u001b[43mpandas_df\u001b[49m\u001b[38;5;241;43m.\u001b[39;49m\u001b[43mcopy\u001b[49m(deep\u001b[38;5;241m=\u001b[39m\u001b[38;5;28;01mFalse\u001b[39;00m), \u001b[38;5;66;03m# create a shallow copy in case a displayed object is mutated in the same cell\u001b[39;00m\n\u001b[1;32m    222\u001b[0m     \u001b[38;5;124m\"\u001b[39m\u001b[38;5;124mconversion_method\u001b[39m\u001b[38;5;124m\"\u001b[39m: conversion_method\n\u001b[1;32m    223\u001b[0m }\n",
      "\u001b[0;31mAttributeError\u001b[0m: 'NoneType' object has no attribute 'copy'"
     ]
    },
    {
     "data": {
      "text/html": [
       "<div>\n",
       "<style scoped>\n",
       "    .dataframe tbody tr th:only-of-type {\n",
       "        vertical-align: middle;\n",
       "    }\n",
       "\n",
       "    .dataframe tbody tr th {\n",
       "        vertical-align: top;\n",
       "    }\n",
       "\n",
       "    .dataframe thead th {\n",
       "        text-align: right;\n",
       "    }\n",
       "</style>\n",
       "<table border=\"1\" class=\"dataframe\">\n",
       "  <thead>\n",
       "    <tr style=\"text-align: right;\">\n",
       "      <th></th>\n",
       "      <th>x</th>\n",
       "      <th>y</th>\n",
       "      <th>reach_id</th>\n",
       "      <th>reach_len</th>\n",
       "      <th>n_nodes</th>\n",
       "      <th>wse</th>\n",
       "      <th>wse_var</th>\n",
       "      <th>width</th>\n",
       "      <th>width_var</th>\n",
       "      <th>facc</th>\n",
       "      <th>...</th>\n",
       "      <th>river_segment</th>\n",
       "      <th>river_segment_order</th>\n",
       "      <th>reach_order</th>\n",
       "      <th>combined_reach_id</th>\n",
       "      <th>dn_river_segment</th>\n",
       "      <th>combined_reach_len</th>\n",
       "      <th>combined_reach_width</th>\n",
       "      <th>combined_reach_max_width</th>\n",
       "      <th>networkGraph</th>\n",
       "      <th>networkGroup</th>\n",
       "    </tr>\n",
       "  </thead>\n",
       "  <tbody>\n",
       "    <tr>\n",
       "      <th>9789</th>\n",
       "      <td>129.901367</td>\n",
       "      <td>-2.955664</td>\n",
       "      <td>53200200315</td>\n",
       "      <td>10939.087229</td>\n",
       "      <td>55</td>\n",
       "      <td>2.000000</td>\n",
       "      <td>1.267081</td>\n",
       "      <td>42.00</td>\n",
       "      <td>3.145310e+02</td>\n",
       "      <td>224.814784</td>\n",
       "      <td>...</td>\n",
       "      <td>1089.0</td>\n",
       "      <td>2.0</td>\n",
       "      <td>0.0</td>\n",
       "      <td>6559.0</td>\n",
       "      <td>3264.0</td>\n",
       "      <td>10939.087229</td>\n",
       "      <td>42.00</td>\n",
       "      <td>45.900000</td>\n",
       "      <td>448</td>\n",
       "      <td>2</td>\n",
       "    </tr>\n",
       "    <tr>\n",
       "      <th>9790</th>\n",
       "      <td>129.907936</td>\n",
       "      <td>-3.022526</td>\n",
       "      <td>53200200325</td>\n",
       "      <td>11089.847781</td>\n",
       "      <td>55</td>\n",
       "      <td>12.600000</td>\n",
       "      <td>75.645584</td>\n",
       "      <td>54.00</td>\n",
       "      <td>6.770267e+02</td>\n",
       "      <td>190.685352</td>\n",
       "      <td>...</td>\n",
       "      <td>1089.0</td>\n",
       "      <td>1.0</td>\n",
       "      <td>0.0</td>\n",
       "      <td>6558.0</td>\n",
       "      <td>3264.0</td>\n",
       "      <td>11089.847781</td>\n",
       "      <td>54.00</td>\n",
       "      <td>56.563636</td>\n",
       "      <td>448</td>\n",
       "      <td>2</td>\n",
       "    </tr>\n",
       "    <tr>\n",
       "      <th>9791</th>\n",
       "      <td>129.892838</td>\n",
       "      <td>-3.097225</td>\n",
       "      <td>53200200335</td>\n",
       "      <td>10910.792315</td>\n",
       "      <td>55</td>\n",
       "      <td>63.200001</td>\n",
       "      <td>424.152750</td>\n",
       "      <td>54.00</td>\n",
       "      <td>5.530480e+02</td>\n",
       "      <td>156.251193</td>\n",
       "      <td>...</td>\n",
       "      <td>1089.0</td>\n",
       "      <td>0.0</td>\n",
       "      <td>0.0</td>\n",
       "      <td>6557.0</td>\n",
       "      <td>3264.0</td>\n",
       "      <td>10910.792315</td>\n",
       "      <td>54.00</td>\n",
       "      <td>61.663636</td>\n",
       "      <td>448</td>\n",
       "      <td>2</td>\n",
       "    </tr>\n",
       "    <tr>\n",
       "      <th>9792</th>\n",
       "      <td>129.857381</td>\n",
       "      <td>-2.912869</td>\n",
       "      <td>53200200165</td>\n",
       "      <td>8646.615720</td>\n",
       "      <td>43</td>\n",
       "      <td>1.300000</td>\n",
       "      <td>0.715589</td>\n",
       "      <td>42.00</td>\n",
       "      <td>8.511623e+02</td>\n",
       "      <td>181.107488</td>\n",
       "      <td>...</td>\n",
       "      <td>1090.0</td>\n",
       "      <td>4.0</td>\n",
       "      <td>0.0</td>\n",
       "      <td>6563.0</td>\n",
       "      <td>3266.0</td>\n",
       "      <td>8646.615720</td>\n",
       "      <td>42.00</td>\n",
       "      <td>43.639535</td>\n",
       "      <td>449</td>\n",
       "      <td>2</td>\n",
       "    </tr>\n",
       "    <tr>\n",
       "      <th>9793</th>\n",
       "      <td>129.846649</td>\n",
       "      <td>-2.953208</td>\n",
       "      <td>53200200175</td>\n",
       "      <td>8834.499047</td>\n",
       "      <td>44</td>\n",
       "      <td>4.500000</td>\n",
       "      <td>5.124918</td>\n",
       "      <td>42.00</td>\n",
       "      <td>3.253940e+02</td>\n",
       "      <td>161.879648</td>\n",
       "      <td>...</td>\n",
       "      <td>1090.0</td>\n",
       "      <td>3.0</td>\n",
       "      <td>0.0</td>\n",
       "      <td>6562.0</td>\n",
       "      <td>3266.0</td>\n",
       "      <td>8834.499047</td>\n",
       "      <td>42.00</td>\n",
       "      <td>47.840909</td>\n",
       "      <td>449</td>\n",
       "      <td>2</td>\n",
       "    </tr>\n",
       "    <tr>\n",
       "      <th>...</th>\n",
       "      <td>...</td>\n",
       "      <td>...</td>\n",
       "      <td>...</td>\n",
       "      <td>...</td>\n",
       "      <td>...</td>\n",
       "      <td>...</td>\n",
       "      <td>...</td>\n",
       "      <td>...</td>\n",
       "      <td>...</td>\n",
       "      <td>...</td>\n",
       "      <td>...</td>\n",
       "      <td>...</td>\n",
       "      <td>...</td>\n",
       "      <td>...</td>\n",
       "      <td>...</td>\n",
       "      <td>...</td>\n",
       "      <td>...</td>\n",
       "      <td>...</td>\n",
       "      <td>...</td>\n",
       "      <td>...</td>\n",
       "      <td>...</td>\n",
       "    </tr>\n",
       "    <tr>\n",
       "      <th>15078</th>\n",
       "      <td>135.669162</td>\n",
       "      <td>-12.315542</td>\n",
       "      <td>56259100406</td>\n",
       "      <td>489.058000</td>\n",
       "      <td>1</td>\n",
       "      <td>0.000000</td>\n",
       "      <td>0.000000</td>\n",
       "      <td>152.00</td>\n",
       "      <td>5.003714e+03</td>\n",
       "      <td>266.034180</td>\n",
       "      <td>...</td>\n",
       "      <td>4654.0</td>\n",
       "      <td>0.0</td>\n",
       "      <td>0.0</td>\n",
       "      <td>12515.0</td>\n",
       "      <td>NaN</td>\n",
       "      <td>489.058000</td>\n",
       "      <td>152.00</td>\n",
       "      <td>NaN</td>\n",
       "      <td>544</td>\n",
       "      <td>2</td>\n",
       "    </tr>\n",
       "    <tr>\n",
       "      <th>15079</th>\n",
       "      <td>141.407867</td>\n",
       "      <td>-15.910474</td>\n",
       "      <td>56297000256</td>\n",
       "      <td>191.461710</td>\n",
       "      <td>1</td>\n",
       "      <td>0.000000</td>\n",
       "      <td>0.000000</td>\n",
       "      <td>368.50</td>\n",
       "      <td>2.624806e+03</td>\n",
       "      <td>4206.925137</td>\n",
       "      <td>...</td>\n",
       "      <td>4655.0</td>\n",
       "      <td>0.0</td>\n",
       "      <td>0.0</td>\n",
       "      <td>12516.0</td>\n",
       "      <td>NaN</td>\n",
       "      <td>191.461710</td>\n",
       "      <td>368.50</td>\n",
       "      <td>NaN</td>\n",
       "      <td>562</td>\n",
       "      <td>2</td>\n",
       "    </tr>\n",
       "    <tr>\n",
       "      <th>15080</th>\n",
       "      <td>142.405750</td>\n",
       "      <td>-28.694167</td>\n",
       "      <td>56800100546</td>\n",
       "      <td>146.586513</td>\n",
       "      <td>1</td>\n",
       "      <td>79.000000</td>\n",
       "      <td>0.000000</td>\n",
       "      <td>578.75</td>\n",
       "      <td>1.500625e+02</td>\n",
       "      <td>40724.000000</td>\n",
       "      <td>...</td>\n",
       "      <td>4656.0</td>\n",
       "      <td>0.0</td>\n",
       "      <td>0.0</td>\n",
       "      <td>12517.0</td>\n",
       "      <td>NaN</td>\n",
       "      <td>146.586513</td>\n",
       "      <td>578.75</td>\n",
       "      <td>NaN</td>\n",
       "      <td>627</td>\n",
       "      <td>2</td>\n",
       "    </tr>\n",
       "    <tr>\n",
       "      <th>15087</th>\n",
       "      <td>129.049184</td>\n",
       "      <td>-14.905278</td>\n",
       "      <td>56239000676</td>\n",
       "      <td>213.432509</td>\n",
       "      <td>1</td>\n",
       "      <td>0.200000</td>\n",
       "      <td>0.000000</td>\n",
       "      <td>1174.50</td>\n",
       "      <td>1.537854e+06</td>\n",
       "      <td>37.690655</td>\n",
       "      <td>...</td>\n",
       "      <td>4663.0</td>\n",
       "      <td>0.0</td>\n",
       "      <td>0.0</td>\n",
       "      <td>12524.0</td>\n",
       "      <td>NaN</td>\n",
       "      <td>213.432509</td>\n",
       "      <td>1174.50</td>\n",
       "      <td>NaN</td>\n",
       "      <td>519</td>\n",
       "      <td>2</td>\n",
       "    </tr>\n",
       "    <tr>\n",
       "      <th>15088</th>\n",
       "      <td>141.407114</td>\n",
       "      <td>-15.912596</td>\n",
       "      <td>56297000266</td>\n",
       "      <td>214.401363</td>\n",
       "      <td>1</td>\n",
       "      <td>0.050000</td>\n",
       "      <td>0.002500</td>\n",
       "      <td>285.00</td>\n",
       "      <td>1.050856e+04</td>\n",
       "      <td>4188.090390</td>\n",
       "      <td>...</td>\n",
       "      <td>4664.0</td>\n",
       "      <td>0.0</td>\n",
       "      <td>0.0</td>\n",
       "      <td>12525.0</td>\n",
       "      <td>NaN</td>\n",
       "      <td>214.401363</td>\n",
       "      <td>285.00</td>\n",
       "      <td>NaN</td>\n",
       "      <td>563</td>\n",
       "      <td>2</td>\n",
       "    </tr>\n",
       "  </tbody>\n",
       "</table>\n",
       "<p>5023 rows × 57 columns</p>\n",
       "</div>"
      ],
      "text/plain": [
       "                x          y     reach_id     reach_len  n_nodes        wse  \\\n",
       "9789   129.901367  -2.955664  53200200315  10939.087229       55   2.000000   \n",
       "9790   129.907936  -3.022526  53200200325  11089.847781       55  12.600000   \n",
       "9791   129.892838  -3.097225  53200200335  10910.792315       55  63.200001   \n",
       "9792   129.857381  -2.912869  53200200165   8646.615720       43   1.300000   \n",
       "9793   129.846649  -2.953208  53200200175   8834.499047       44   4.500000   \n",
       "...           ...        ...          ...           ...      ...        ...   \n",
       "15078  135.669162 -12.315542  56259100406    489.058000        1   0.000000   \n",
       "15079  141.407867 -15.910474  56297000256    191.461710        1   0.000000   \n",
       "15080  142.405750 -28.694167  56800100546    146.586513        1  79.000000   \n",
       "15087  129.049184 -14.905278  56239000676    213.432509        1   0.200000   \n",
       "15088  141.407114 -15.912596  56297000266    214.401363        1   0.050000   \n",
       "\n",
       "          wse_var    width     width_var          facc  ...  river_segment  \\\n",
       "9789     1.267081    42.00  3.145310e+02    224.814784  ...         1089.0   \n",
       "9790    75.645584    54.00  6.770267e+02    190.685352  ...         1089.0   \n",
       "9791   424.152750    54.00  5.530480e+02    156.251193  ...         1089.0   \n",
       "9792     0.715589    42.00  8.511623e+02    181.107488  ...         1090.0   \n",
       "9793     5.124918    42.00  3.253940e+02    161.879648  ...         1090.0   \n",
       "...           ...      ...           ...           ...  ...            ...   \n",
       "15078    0.000000   152.00  5.003714e+03    266.034180  ...         4654.0   \n",
       "15079    0.000000   368.50  2.624806e+03   4206.925137  ...         4655.0   \n",
       "15080    0.000000   578.75  1.500625e+02  40724.000000  ...         4656.0   \n",
       "15087    0.000000  1174.50  1.537854e+06     37.690655  ...         4663.0   \n",
       "15088    0.002500   285.00  1.050856e+04   4188.090390  ...         4664.0   \n",
       "\n",
       "       river_segment_order  reach_order  combined_reach_id  dn_river_segment  \\\n",
       "9789                   2.0          0.0             6559.0            3264.0   \n",
       "9790                   1.0          0.0             6558.0            3264.0   \n",
       "9791                   0.0          0.0             6557.0            3264.0   \n",
       "9792                   4.0          0.0             6563.0            3266.0   \n",
       "9793                   3.0          0.0             6562.0            3266.0   \n",
       "...                    ...          ...                ...               ...   \n",
       "15078                  0.0          0.0            12515.0               NaN   \n",
       "15079                  0.0          0.0            12516.0               NaN   \n",
       "15080                  0.0          0.0            12517.0               NaN   \n",
       "15087                  0.0          0.0            12524.0               NaN   \n",
       "15088                  0.0          0.0            12525.0               NaN   \n",
       "\n",
       "       combined_reach_len  combined_reach_width  combined_reach_max_width  \\\n",
       "9789         10939.087229                 42.00                 45.900000   \n",
       "9790         11089.847781                 54.00                 56.563636   \n",
       "9791         10910.792315                 54.00                 61.663636   \n",
       "9792          8646.615720                 42.00                 43.639535   \n",
       "9793          8834.499047                 42.00                 47.840909   \n",
       "...                   ...                   ...                       ...   \n",
       "15078          489.058000                152.00                       NaN   \n",
       "15079          191.461710                368.50                       NaN   \n",
       "15080          146.586513                578.75                       NaN   \n",
       "15087          213.432509               1174.50                       NaN   \n",
       "15088          214.401363                285.00                       NaN   \n",
       "\n",
       "       networkGraph  networkGroup  \n",
       "9789            448             2  \n",
       "9790            448             2  \n",
       "9791            448             2  \n",
       "9792            449             2  \n",
       "9793            449             2  \n",
       "...             ...           ...  \n",
       "15078           544             2  \n",
       "15079           562             2  \n",
       "15080           627             2  \n",
       "15087           519             2  \n",
       "15088           563             2  \n",
       "\n",
       "[5023 rows x 57 columns]"
      ]
     },
     "execution_count": 49,
     "metadata": {},
     "output_type": "execute_result"
    }
   ],
   "source": [
    "dfSave[dfSave['networkGroup'] == 2]\n",
    "\n",
    "\n"
   ]
  },
  {
   "cell_type": "code",
   "execution_count": 21,
   "metadata": {},
   "outputs": [
    {
     "ename": "AttributeError",
     "evalue": "'NoneType' object has no attribute 'copy'",
     "output_type": "error",
     "traceback": [
      "\u001b[0;31m---------------------------------------------------------------------------\u001b[0m",
      "\u001b[0;31mAttributeError\u001b[0m                            Traceback (most recent call last)",
      "File \u001b[0;32m~/.conda/envs/RivAlg10/lib/python3.12/site-packages/IPython/core/formatters.py:343\u001b[0m, in \u001b[0;36mBaseFormatter.__call__\u001b[0;34m(self, obj)\u001b[0m\n\u001b[1;32m    341\u001b[0m     \u001b[38;5;28;01mpass\u001b[39;00m\n\u001b[1;32m    342\u001b[0m \u001b[38;5;28;01melse\u001b[39;00m:\n\u001b[0;32m--> 343\u001b[0m     \u001b[38;5;28;01mreturn\u001b[39;00m \u001b[43mprinter\u001b[49m\u001b[43m(\u001b[49m\u001b[43mobj\u001b[49m\u001b[43m)\u001b[49m\n\u001b[1;32m    344\u001b[0m \u001b[38;5;66;03m# Finally look for special method names\u001b[39;00m\n\u001b[1;32m    345\u001b[0m method \u001b[38;5;241m=\u001b[39m get_real_method(obj, \u001b[38;5;28mself\u001b[39m\u001b[38;5;241m.\u001b[39mprint_method)\n",
      "Cell \u001b[0;32mIn[2], line 227\u001b[0m, in \u001b[0;36m__DW_OUTPUT_FORMATTER__.<locals>.DataWrangler.formatter\u001b[0;34m(cls, var, **kwargs)\u001b[0m\n\u001b[1;32m    225\u001b[0m \u001b[38;5;129m@classmethod\u001b[39m\n\u001b[1;32m    226\u001b[0m \u001b[38;5;28;01mdef\u001b[39;00m \u001b[38;5;21mformatter\u001b[39m(\u001b[38;5;28mcls\u001b[39m, var, \u001b[38;5;241m*\u001b[39m\u001b[38;5;241m*\u001b[39mkwargs):\n\u001b[0;32m--> 227\u001b[0m     s \u001b[38;5;241m=\u001b[39m \u001b[38;5;28;43mcls\u001b[39;49m\u001b[43m(\u001b[49m\u001b[43mvar\u001b[49m\u001b[43m,\u001b[49m\u001b[43m \u001b[49m\u001b[38;5;241;43m*\u001b[39;49m\u001b[38;5;241;43m*\u001b[39;49m\u001b[43mkwargs\u001b[49m\u001b[43m)\u001b[49m\n\u001b[1;32m    228\u001b[0m     \u001b[38;5;28;01mreturn\u001b[39;00m s\u001b[38;5;241m.\u001b[39m_repr_dw_()\n",
      "Cell \u001b[0;32mIn[2], line 221\u001b[0m, in \u001b[0;36m__DW_OUTPUT_FORMATTER__.<locals>.DataWrangler.__init__\u001b[0;34m(self, expr_val)\u001b[0m\n\u001b[1;32m    218\u001b[0m \u001b[38;5;28mself\u001b[39m\u001b[38;5;241m.\u001b[39mid \u001b[38;5;241m=\u001b[39m \u001b[38;5;28mstr\u001b[39m(uuid\u001b[38;5;241m.\u001b[39muuid4())\n\u001b[1;32m    219\u001b[0m pandas_df, conversion_method \u001b[38;5;241m=\u001b[39m api[\u001b[38;5;124m\"\u001b[39m\u001b[38;5;124mpandas_transport\u001b[39m\u001b[38;5;124m\"\u001b[39m][\u001b[38;5;124m\"\u001b[39m\u001b[38;5;124mconvert_to_pandas\u001b[39m\u001b[38;5;124m\"\u001b[39m](expr_val)\n\u001b[1;32m    220\u001b[0m tmp_vars[\u001b[38;5;28mself\u001b[39m\u001b[38;5;241m.\u001b[39mid] \u001b[38;5;241m=\u001b[39m {\n\u001b[0;32m--> 221\u001b[0m     \u001b[38;5;124m\"\u001b[39m\u001b[38;5;124mconverted\u001b[39m\u001b[38;5;124m\"\u001b[39m: \u001b[43mpandas_df\u001b[49m\u001b[38;5;241;43m.\u001b[39;49m\u001b[43mcopy\u001b[49m(deep\u001b[38;5;241m=\u001b[39m\u001b[38;5;28;01mFalse\u001b[39;00m), \u001b[38;5;66;03m# create a shallow copy in case a displayed object is mutated in the same cell\u001b[39;00m\n\u001b[1;32m    222\u001b[0m     \u001b[38;5;124m\"\u001b[39m\u001b[38;5;124mconversion_method\u001b[39m\u001b[38;5;124m\"\u001b[39m: conversion_method\n\u001b[1;32m    223\u001b[0m }\n",
      "\u001b[0;31mAttributeError\u001b[0m: 'NoneType' object has no attribute 'copy'"
     ]
    },
    {
     "data": {
      "text/html": [
       "<div>\n",
       "<style scoped>\n",
       "    .dataframe tbody tr th:only-of-type {\n",
       "        vertical-align: middle;\n",
       "    }\n",
       "\n",
       "    .dataframe tbody tr th {\n",
       "        vertical-align: top;\n",
       "    }\n",
       "\n",
       "    .dataframe thead th {\n",
       "        text-align: right;\n",
       "    }\n",
       "</style>\n",
       "<table border=\"1\" class=\"dataframe\">\n",
       "  <thead>\n",
       "    <tr style=\"text-align: right;\">\n",
       "      <th></th>\n",
       "      <th>x</th>\n",
       "      <th>y</th>\n",
       "      <th>reach_id</th>\n",
       "      <th>reach_len</th>\n",
       "      <th>n_nodes</th>\n",
       "      <th>wse</th>\n",
       "      <th>wse_var</th>\n",
       "      <th>width</th>\n",
       "      <th>width_var</th>\n",
       "      <th>facc</th>\n",
       "      <th>...</th>\n",
       "      <th>node_mean_max_width</th>\n",
       "      <th>dn_connected_reach</th>\n",
       "      <th>river_segment</th>\n",
       "      <th>river_segment_order</th>\n",
       "      <th>reach_order</th>\n",
       "      <th>combined_reach_id</th>\n",
       "      <th>dn_river_segment</th>\n",
       "      <th>combined_reach_len</th>\n",
       "      <th>combined_reach_width</th>\n",
       "      <th>combined_reach_max_width</th>\n",
       "    </tr>\n",
       "  </thead>\n",
       "  <tbody>\n",
       "  </tbody>\n",
       "</table>\n",
       "<p>0 rows × 55 columns</p>\n",
       "</div>"
      ],
      "text/plain": [
       "Empty GeoDataFrame\n",
       "Columns: [x, y, reach_id, reach_len, n_nodes, wse, wse_var, width, width_var, facc, n_chan_max, n_chan_mod, obstr_type, grod_id, hfalls_id, slope, dist_out, lakeflag, max_width, n_rch_up, n_rch_dn, rch_id_up, rch_id_dn, swot_orbit, swot_obs, type, river_name, edit_flag, trib_flag, path_freq, path_order, path_segs, main_side, strm_order, end_reach, network, geometry, include_flag, pfaf1, pfaf2, localCRS, rch_id_up_orig, rch_id_dn_orig, n_rch_up_orig, n_rch_dn_orig, node_mean_max_width, dn_connected_reach, river_segment, river_segment_order, reach_order, combined_reach_id, dn_river_segment, combined_reach_len, combined_reach_width, combined_reach_max_width]\n",
       "Index: []\n",
       "\n",
       "[0 rows x 55 columns]"
      ]
     },
     "execution_count": 21,
     "metadata": {},
     "output_type": "execute_result"
    }
   ],
   "source": [
    "dfInc = df[df['include_flag'] == '0']\n",
    "dfInc[dfInc['combined_reach_max_width'].isna()]"
   ]
  },
  {
   "cell_type": "markdown",
   "metadata": {},
   "source": [
    "# Test connect reaches"
   ]
  },
  {
   "cell_type": "code",
   "execution_count": 109,
   "metadata": {},
   "outputs": [],
   "source": [
    "from connect_geometries import merge_centerlines\n",
    "import matplotlib.pyplot as plt"
   ]
  },
  {
   "cell_type": "code",
   "execution_count": 101,
   "metadata": {},
   "outputs": [
    {
     "data": {
      "text/html": [
       "<div>\n",
       "<style scoped>\n",
       "    .dataframe tbody tr th:only-of-type {\n",
       "        vertical-align: middle;\n",
       "    }\n",
       "\n",
       "    .dataframe tbody tr th {\n",
       "        vertical-align: top;\n",
       "    }\n",
       "\n",
       "    .dataframe thead th {\n",
       "        text-align: right;\n",
       "    }\n",
       "</style>\n",
       "<table border=\"1\" class=\"dataframe\">\n",
       "  <thead>\n",
       "    <tr style=\"text-align: right;\">\n",
       "      <th></th>\n",
       "      <th>x</th>\n",
       "      <th>y</th>\n",
       "      <th>reach_id</th>\n",
       "      <th>reach_len</th>\n",
       "      <th>n_nodes</th>\n",
       "      <th>wse</th>\n",
       "      <th>wse_var</th>\n",
       "      <th>width</th>\n",
       "      <th>width_var</th>\n",
       "      <th>facc</th>\n",
       "      <th>...</th>\n",
       "      <th>rch_id_up_orig</th>\n",
       "      <th>rch_id_dn_orig</th>\n",
       "      <th>n_rch_up_orig</th>\n",
       "      <th>n_rch_dn_orig</th>\n",
       "      <th>node_mean_max_width</th>\n",
       "      <th>dn_connected_reach</th>\n",
       "      <th>river_segment</th>\n",
       "      <th>river_segment_order</th>\n",
       "      <th>reach_order</th>\n",
       "      <th>combined_reach_id</th>\n",
       "    </tr>\n",
       "  </thead>\n",
       "  <tbody>\n",
       "    <tr>\n",
       "      <th>6456</th>\n",
       "      <td>143.300405</td>\n",
       "      <td>-8.358088</td>\n",
       "      <td>53130000125</td>\n",
       "      <td>4050.197592</td>\n",
       "      <td>20</td>\n",
       "      <td>1.5</td>\n",
       "      <td>0.0</td>\n",
       "      <td>5188.0</td>\n",
       "      <td>0.0</td>\n",
       "      <td>15.771405</td>\n",
       "      <td>...</td>\n",
       "      <td>[53130000135]</td>\n",
       "      <td>[53130000115]</td>\n",
       "      <td>1</td>\n",
       "      <td>1</td>\n",
       "      <td>5188.0</td>\n",
       "      <td>NaN</td>\n",
       "      <td>711.0</td>\n",
       "      <td>23.0</td>\n",
       "      <td>14.0</td>\n",
       "      <td>4388.0</td>\n",
       "    </tr>\n",
       "  </tbody>\n",
       "</table>\n",
       "<p>1 rows × 51 columns</p>\n",
       "</div>"
      ],
      "text/plain": [
       "               x         y     reach_id    reach_len  n_nodes  wse  wse_var  \\\n",
       "6456  143.300405 -8.358088  53130000125  4050.197592       20  1.5      0.0   \n",
       "\n",
       "       width  width_var       facc  ...  rch_id_up_orig  rch_id_dn_orig  \\\n",
       "6456  5188.0        0.0  15.771405  ...   [53130000135]   [53130000115]   \n",
       "\n",
       "      n_rch_up_orig  n_rch_dn_orig  node_mean_max_width  dn_connected_reach  \\\n",
       "6456              1              1               5188.0                 NaN   \n",
       "\n",
       "      river_segment  river_segment_order  reach_order  combined_reach_id  \n",
       "6456          711.0                 23.0         14.0             4388.0  \n",
       "\n",
       "[1 rows x 51 columns]"
      ]
     },
     "execution_count": 101,
     "metadata": {},
     "output_type": "execute_result"
    }
   ],
   "source": [
    "df[df['reach_order'] == df['reach_order'].max()]\n"
   ]
  },
  {
   "cell_type": "markdown",
   "metadata": {},
   "source": [
    "# test random"
   ]
  },
  {
   "cell_type": "code",
   "execution_count": 5,
   "metadata": {},
   "outputs": [],
   "source": [
    "for c in ['oc', 'af', 'eu', 'na', 'as', 'sa']:\n",
    "    files = glob(directory + f'results/new_segments/vector/{c}*.gpkg')\n",
    "    for i, f in enumerate(files):\n",
    "        dfTemp = gpd.read_file(f)\n",
    "        if i == 0:\n",
    "            df = dfTemp\n",
    "        else:\n",
    "            df = pd.concat([df, dfTemp])\n",
    "    df.to_file(directory + f'results/new_segments/vector_cont/{c}_reaches.gpkg')"
   ]
  },
  {
   "cell_type": "code",
   "execution_count": 41,
   "metadata": {},
   "outputs": [],
   "source": [
    "files = glob(directory + f'results/new_segments/vector/{'oc'}*.gpkg')\n",
    "for i, f in enumerate(files):\n",
    "        dfTemp = gpd.read_file(f)\n",
    "        if i == 0:\n",
    "            df = dfTemp\n",
    "        else:\n",
    "            df = pd.concat([df, dfTemp])"
   ]
  },
  {
   "cell_type": "code",
   "execution_count": 42,
   "metadata": {},
   "outputs": [
    {
     "data": {
      "application/vnd.microsoft.datawrangler.viewer.v0+json": {
       "columns": [
        {
         "name": "index",
         "rawType": "int64",
         "type": "integer"
        },
        {
         "name": "networkGraph",
         "rawType": "int64",
         "type": "integer"
        },
        {
         "name": "path_segs",
         "rawType": "int64",
         "type": "integer"
        },
        {
         "name": "pfaf2",
         "rawType": "int64",
         "type": "integer"
        }
       ],
       "conversionMethod": "pd.DataFrame",
       "ref": "e3f75a1b-4f51-458b-a526-20a4469097ee",
       "rows": [
        [
         "1587",
         "337",
         "844",
         "3"
        ]
       ],
       "shape": {
        "columns": 3,
        "rows": 1
       }
      },
      "text/html": [
       "<div>\n",
       "<style scoped>\n",
       "    .dataframe tbody tr th:only-of-type {\n",
       "        vertical-align: middle;\n",
       "    }\n",
       "\n",
       "    .dataframe tbody tr th {\n",
       "        vertical-align: top;\n",
       "    }\n",
       "\n",
       "    .dataframe thead th {\n",
       "        text-align: right;\n",
       "    }\n",
       "</style>\n",
       "<table border=\"1\" class=\"dataframe\">\n",
       "  <thead>\n",
       "    <tr style=\"text-align: right;\">\n",
       "      <th></th>\n",
       "      <th>networkGraph</th>\n",
       "      <th>path_segs</th>\n",
       "      <th>pfaf2</th>\n",
       "    </tr>\n",
       "  </thead>\n",
       "  <tbody>\n",
       "    <tr>\n",
       "      <th>1587</th>\n",
       "      <td>337</td>\n",
       "      <td>844</td>\n",
       "      <td>3</td>\n",
       "    </tr>\n",
       "  </tbody>\n",
       "</table>\n",
       "</div>"
      ],
      "text/plain": [
       "      networkGraph  path_segs  pfaf2\n",
       "1587           337        844      3"
      ]
     },
     "execution_count": 42,
     "metadata": {},
     "output_type": "execute_result"
    }
   ],
   "source": [
    "df.loc[df['reach_id'] == 53130101036, ['networkGraph', 'path_segs', 'pfaf2']]\n"
   ]
  },
  {
   "cell_type": "code",
   "execution_count": 30,
   "metadata": {},
   "outputs": [],
   "source": [
    "import ast"
   ]
  },
  {
   "cell_type": "code",
   "execution_count": null,
   "metadata": {},
   "outputs": [],
   "source": [
    "\n"
   ]
  },
  {
   "cell_type": "code",
   "execution_count": 52,
   "metadata": {},
   "outputs": [],
   "source": [
    "for N in df['networkGraph'].unique()[0:1]:    \n",
    "\n",
    "    dfCatch = df[df['networkGraph'] == N]\n",
    "    dfCatch = df[df['networkGraph'] == 337]\n",
    "\n",
    "    # create edges\n",
    "    edges = []\n",
    "    for i, r in dfCatch.iterrows():\n",
    "        DN = r['rch_id_dn_orig']\n",
    "        if DN != 'nan':\n",
    "        # if isinstance(DN, list):\n",
    "            DN = ast.literal_eval(DN)\n",
    "            for dn in DN:\n",
    "                edges.append([r['reach_id'], dn])\n",
    "\n",
    "    G = nx.DiGraph()\n",
    "    G.add_edges_from(edges)\n",
    "    RG = G.reverse()\n",
    "    startPoints = [node for node, out_degree in RG.out_degree() if out_degree == 0]\n",
    "\n",
    "    dfSegments = dfCatch.groupby(['path_segs', 'pfaf2'], as_index = False).size()\n",
    "\n",
    "\n",
    "    for i, rs in dfSegments.iterrows():\n",
    "        dfSegment = dfCatch[(dfCatch['path_segs'] == rs['path_segs']) & \n",
    "                            (dfCatch['pfaf2'] == rs['pfaf2'])]\n",
    "        segmentIndex = dfSegment.index\n",
    "        segmentReach = dfSegment.loc[dfSegment['dist_out'] == dfSegment['dist_out'].min(), 'reach_id'].iloc[0]\n",
    "        \n",
    "        upstreamReaches   = nx.ancestors(G, segmentReach)\n",
    "        upstreamEndPoints = list(set(startPoints) & set(upstreamReaches))\n",
    "\n",
    "        if len(upstreamEndPoints) > 0:\n",
    "            rowID = dfCatch.loc[dfCatch['reach_id'].isin(upstreamEndPoints), 'dist_out'].idxmax()\n",
    "            row   = dfCatch.loc[rowID]\n",
    "            distVal   = row['dist_out']\n",
    "            reachVal  = row['reach_id']\n",
    "\n",
    "        else:\n",
    "            print(f'new_reach_definition - river_catchment_position: Error no upstream end point detected ({segmentReach})', dfSegment.shape[0])\n",
    "            reachVal = np.nan\n",
    "            distVal = dfSegment['dist_out'].iloc[0]\n",
    "        df.loc[segmentIndex, 'max_dist_out'] = distVal\n",
    "        df.loc[segmentIndex, 'up_reach_id']  = reachVal\n",
    "df['catchment_position'] = df['dist_out'] / df['max_dist_out']\n",
    "\n",
    "##################################################################\n",
    "# Single val network sections"
   ]
  },
  {
   "cell_type": "code",
   "execution_count": 51,
   "metadata": {},
   "outputs": [
    {
     "data": {
      "text/plain": [
       "53130101016"
      ]
     },
     "execution_count": 51,
     "metadata": {},
     "output_type": "execute_result"
    }
   ],
   "source": [
    "dfSegment.loc[dfSegment['dist_out'] == dfSegment['dist_out'].min(), 'reach_id'].iloc[0]"
   ]
  },
  {
   "cell_type": "code",
   "execution_count": 33,
   "metadata": {},
   "outputs": [
    {
     "name": "stdout",
     "output_type": "stream",
     "text": [
      "/scratch/6256481/input/SWOT_vector/sa_sword_reaches_v17.gpkg\n",
      "42133\n",
      "/scratch/6256481/input/SWOT_vector/as_sword_reaches_v17.gpkg\n",
      "100185\n",
      "/scratch/6256481/input/SWOT_vector/na_sword_reaches_v17.gpkg\n",
      "38696\n",
      "/scratch/6256481/input/SWOT_vector/eu_sword_reaches_v17.gpkg\n",
      "31103\n",
      "/scratch/6256481/input/SWOT_vector/af_sword_reaches_v17.gpkg\n",
      "21441\n",
      "/scratch/6256481/input/SWOT_vector/oc_sword_reaches_v17.gpkg\n",
      "15089\n"
     ]
    }
   ],
   "source": [
    "# files = glob(directory + 'input/SWOT_vector/as*.gpkg')[0]\n",
    "# df = gpd.read_file(files)\n",
    "\n",
    "for c in ['sa', 'as', 'na', 'eu', 'af', 'oc']:\n",
    "    files = glob(directory + f'input/SWOT_vector/{c}*17*.gpkg')[0]\n",
    "    print(files)\n",
    "    d = gpd.read_file(files)\n",
    "    print(d.shape[0])"
   ]
  },
  {
   "cell_type": "code",
   "execution_count": 38,
   "metadata": {},
   "outputs": [
    {
     "name": "stdout",
     "output_type": "stream",
     "text": [
      "5063 30.0 36.266666666666666\n",
      "5003 25.0 27.370967741935484\n",
      "5023 20.0 24.196428571428573\n",
      "5018 20.0 24.88888888888889\n",
      "5100 23.5 30.0\n",
      "5051 22.5 27.16304347826087\n",
      "5013 20.0 23.14\n",
      "1259 32.597068786621094 38.04838709677419\n",
      "6192 26.0 29.35576923076923\n",
      "5514 34.5 34.6\n",
      "5126 24.65745258331299 26.551367240793564\n",
      "5111 22.06301498413086 36.5\n",
      "7143 20.0 24.77777777777778\n",
      "2017 36.0 37.02\n",
      "6042 29.074541091918945 30.0\n",
      "5028 30.0 30.0\n",
      "5001 20.0 30.0\n",
      "5910 30.027984619140625 31.336958445035496\n",
      "5009 23.399999618530273 29.41993040197036\n",
      "6316 21.4036283493042 23.95045304298401\n",
      "5390 30.0 30.0\n",
      "5286 28.5 29.257142857142856\n",
      "5780 20.0 26.285714285714285\n",
      "21074 20.5 24.916666666666668\n",
      "4766 20.0 22.810344827586206\n",
      "5227 20.5 24.265\n",
      "5120 20.350515365600586 28.612166104997907\n",
      "5484 22.386301040649414 27.125956654548645\n",
      "6352 29.534046173095703 30.0\n",
      "6635 21.0 21.63536434173584\n",
      "7884 21.0 24.010416666666668\n",
      "5304 22.0 26.223684210526315\n",
      "5019 24.187387466430664 27.91304347826087\n",
      "3877 20.0 22.3125\n",
      "5004 20.924999237060547 26.988636363636363\n",
      "5011 20.0 28.458333333333332\n",
      "11021 20.5 29.640625\n",
      "5468 22.5 30.994565217391305\n",
      "5005 24.0 27.88\n",
      "5046 20.333396911621094 32.775907954231634\n",
      "7736 20.5 27.39\n",
      "5006 20.0 27.416666666666668\n",
      "5213 21.0 23.75\n"
     ]
    }
   ],
   "source": [
    "files = glob(directory + 'results/new_segments/vector/*.gpkg')\n",
    "for f in files:\n",
    "    d = gpd.read_file(f)\n",
    "    dinc = d[d['include_flag'] == '0']\n",
    "    print(d.shape[0], dinc['combined_reach_width'].min(), \n",
    "          dinc['combined_reach_max_width'].min())"
   ]
  },
  {
   "cell_type": "code",
   "execution_count": null,
   "metadata": {},
   "outputs": [
    {
     "data": {
      "text/plain": [
       "['/scratch/6256481/input/SWOT_vector/eu_sword_reaches_v16.gpkg',\n",
       " '/scratch/6256481/input/SWOT_vector/af_sword_reaches_v17.gpkg',\n",
       " '/scratch/6256481/input/SWOT_vector/as_sword_reaches_v17.gpkg',\n",
       " '/scratch/6256481/input/SWOT_vector/eu_sword_reaches_v17.gpkg',\n",
       " '/scratch/6256481/input/SWOT_vector/na_sword_reaches_v17.gpkg',\n",
       " '/scratch/6256481/input/SWOT_vector/oc_sword_reaches_v17.gpkg',\n",
       " '/scratch/6256481/input/SWOT_vector/sa_sword_reaches_v17.gpkg']"
      ]
     },
     "execution_count": 31,
     "metadata": {},
     "output_type": "execute_result"
    }
   ],
   "source": [
    "glob(directory + 'input/SWOT_vector/{}*.gpkg')"
   ]
  },
  {
   "cell_type": "code",
   "execution_count": null,
   "metadata": {},
   "outputs": [],
   "source": [
    "\n"
   ]
  },
  {
   "cell_type": "code",
   "execution_count": 94,
   "metadata": {},
   "outputs": [
    {
     "data": {
      "text/plain": [
       "'as_sword_nodes_v17'"
      ]
     },
     "execution_count": 94,
     "metadata": {},
     "output_type": "execute_result"
    }
   ],
   "source": [
    "nodeFiles = glob(directory + f'input/SWOT_nodes/{'as'}*v17*.gpkg')[0]\n",
    "nodeFiles[-23:-5]"
   ]
  },
  {
   "cell_type": "code",
   "execution_count": 95,
   "metadata": {},
   "outputs": [],
   "source": [
    "def split_input_file(cont, threshold):\n",
    "    files     = glob(directory + f'input/SWOT_vector/{cont}*v17*.gpkg')[0]\n",
    "    nodeFiles = glob(directory + f'input/SWOT_nodes/{cont}*v17*.gpkg')[0]\n",
    "    filesName, nodeFilesName = files[-25:-5], nodeFiles[-23:-5]\n",
    "    df     = gpd.read_file(files)\n",
    "    dfNode = gpd.read_file(nodeFiles)\n",
    "\n",
    "    edges = []\n",
    "    for i, r in df.iterrows():\n",
    "        rch = r[f'rch_id_dn']\n",
    "        if len(rch) > 0:\n",
    "            val = list(map(int, r[f'rch_id_dn'].split()))\n",
    "            DN = val\n",
    "            if isinstance(DN, list):\n",
    "                for dn in DN:\n",
    "                    edges.append([r['reach_id'], dn])\n",
    "\n",
    "    G = nx.Graph()\n",
    "    G.add_edges_from(edges)\n",
    "\n",
    "    networks = list(nx.connected_components(G))\n",
    "    dfN = pd.DataFrame(networks)\n",
    "    dfN = dfN.unstack().reset_index(name='reach_id')[['level_1', 'reach_id']]\n",
    "    dfN = dfN.sort_values('level_1').dropna().rename(columns={\"level_1\": \"networkGraph\"})\n",
    "\n",
    "    dfNS = dfN.groupby('networkGraph', as_index = False).size()\n",
    "    dfNS['cumSum'] = dfNS['size'].cumsum()\n",
    "\n",
    "\n",
    "    dfNS.loc[dfNS['cumSum'] <= threshold, 'networkGroup']  = 0\n",
    "    dfNS.loc[dfNS['cumSum'] > threshold, 'networkGroup']   = 1\n",
    "\n",
    "    dfN = dfN.merge(dfNS[['networkGraph', 'networkGroup']], how = 'left', on ='networkGraph')\n",
    "    df = df.merge(dfN, how = 'left', on = 'reach_id')\n",
    "\n",
    "    for d in df['networkGroup'].unique():\n",
    "        D  = df[df['networkGroup'] == d].copy()\n",
    "        D  = D.drop(['networkGraph', 'networkGroup'], axis = 1)\n",
    "        DN = dfNode[dfNode['reach_id'].isin(D['reach_id'].values)]\n",
    "        \n",
    "        D.to_file(directory + f'input_created/SWOT_vector_gpkg_split/{filesName}_{int(d)}.gpkg')\n",
    "        DN.to_file(directory + f'input_created/SWOT_node_gpkg_split/{nodeFilesName}_{int(d)}.gpkg')\n",
    "    return df\n",
    "DF = split_input_file('as', 50000)"
   ]
  },
  {
   "cell_type": "code",
   "execution_count": 102,
   "metadata": {},
   "outputs": [
    {
     "data": {
      "text/plain": [
       "(100185, 100185, 100185, 100185, 100185)"
      ]
     },
     "execution_count": 102,
     "metadata": {},
     "output_type": "execute_result"
    }
   ],
   "source": [
    "\n",
    "DF.shape[0], df.shape[0], DDF.shape[0], DDF.reach_id.nunique(),DDFN.reach_id.nunique() "
   ]
  },
  {
   "cell_type": "code",
   "execution_count": 101,
   "metadata": {},
   "outputs": [],
   "source": [
    "F = glob(directory + 'input_created/SWOT_node_gpkg_split/*')\n",
    "for i, f in enumerate(F):\n",
    "    DDFNTemp = gpd.read_file(f)\n",
    "    if i == 0:\n",
    "        DDFN = DDFNTemp\n",
    "    else:\n",
    "        DDFN = pd.concat([DDFN, DDFNTemp])"
   ]
  },
  {
   "cell_type": "code",
   "execution_count": 60,
   "metadata": {},
   "outputs": [
    {
     "data": {
      "text/html": [
       "<div>\n",
       "<style scoped>\n",
       "    .dataframe tbody tr th:only-of-type {\n",
       "        vertical-align: middle;\n",
       "    }\n",
       "\n",
       "    .dataframe tbody tr th {\n",
       "        vertical-align: top;\n",
       "    }\n",
       "\n",
       "    .dataframe thead th {\n",
       "        text-align: right;\n",
       "    }\n",
       "</style>\n",
       "<table border=\"1\" class=\"dataframe\">\n",
       "  <thead>\n",
       "    <tr style=\"text-align: right;\">\n",
       "      <th></th>\n",
       "      <th>x</th>\n",
       "      <th>y</th>\n",
       "      <th>reach_id</th>\n",
       "      <th>reach_len</th>\n",
       "      <th>n_nodes</th>\n",
       "      <th>wse</th>\n",
       "      <th>wse_var</th>\n",
       "      <th>width</th>\n",
       "      <th>width_var</th>\n",
       "      <th>facc</th>\n",
       "      <th>...</th>\n",
       "      <th>path_order</th>\n",
       "      <th>path_segs</th>\n",
       "      <th>main_side</th>\n",
       "      <th>strm_order</th>\n",
       "      <th>end_reach</th>\n",
       "      <th>network</th>\n",
       "      <th>geometry</th>\n",
       "      <th>networkGraph</th>\n",
       "      <th>networkGroup_x</th>\n",
       "      <th>networkGroup_y</th>\n",
       "    </tr>\n",
       "  </thead>\n",
       "  <tbody>\n",
       "    <tr>\n",
       "      <th>0</th>\n",
       "      <td>68.281779</td>\n",
       "      <td>68.165678</td>\n",
       "      <td>31101000021</td>\n",
       "      <td>2704.046410</td>\n",
       "      <td>14</td>\n",
       "      <td>0.000000</td>\n",
       "      <td>0.000000</td>\n",
       "      <td>626.0</td>\n",
       "      <td>2.032656e+04</td>\n",
       "      <td>3047.670948</td>\n",
       "      <td>...</td>\n",
       "      <td>882</td>\n",
       "      <td>836</td>\n",
       "      <td>0</td>\n",
       "      <td>2</td>\n",
       "      <td>0</td>\n",
       "      <td>24</td>\n",
       "      <td>LINESTRING (68.30357 68.17384, 68.30285 68.173...</td>\n",
       "      <td>0</td>\n",
       "      <td>0.0</td>\n",
       "      <td>0.0</td>\n",
       "    </tr>\n",
       "    <tr>\n",
       "      <th>1</th>\n",
       "      <td>68.279176</td>\n",
       "      <td>68.148494</td>\n",
       "      <td>31101000033</td>\n",
       "      <td>1558.394545</td>\n",
       "      <td>8</td>\n",
       "      <td>0.000000</td>\n",
       "      <td>0.000000</td>\n",
       "      <td>310.0</td>\n",
       "      <td>1.009226e+04</td>\n",
       "      <td>3026.683343</td>\n",
       "      <td>...</td>\n",
       "      <td>882</td>\n",
       "      <td>836</td>\n",
       "      <td>0</td>\n",
       "      <td>2</td>\n",
       "      <td>0</td>\n",
       "      <td>24</td>\n",
       "      <td>LINESTRING (68.27452 68.15493, 68.27453 68.154...</td>\n",
       "      <td>0</td>\n",
       "      <td>0.0</td>\n",
       "      <td>0.0</td>\n",
       "    </tr>\n",
       "    <tr>\n",
       "      <th>2</th>\n",
       "      <td>68.242202</td>\n",
       "      <td>68.109364</td>\n",
       "      <td>31101000041</td>\n",
       "      <td>13663.348149</td>\n",
       "      <td>68</td>\n",
       "      <td>2.000000</td>\n",
       "      <td>0.475677</td>\n",
       "      <td>192.0</td>\n",
       "      <td>6.792602e+03</td>\n",
       "      <td>3013.987137</td>\n",
       "      <td>...</td>\n",
       "      <td>882</td>\n",
       "      <td>836</td>\n",
       "      <td>0</td>\n",
       "      <td>2</td>\n",
       "      <td>0</td>\n",
       "      <td>24</td>\n",
       "      <td>LINESTRING (68.28071 68.14183, 68.28000 68.141...</td>\n",
       "      <td>0</td>\n",
       "      <td>0.0</td>\n",
       "      <td>0.0</td>\n",
       "    </tr>\n",
       "    <tr>\n",
       "      <th>3</th>\n",
       "      <td>68.150080</td>\n",
       "      <td>68.074217</td>\n",
       "      <td>31101000051</td>\n",
       "      <td>12397.855688</td>\n",
       "      <td>62</td>\n",
       "      <td>2.100000</td>\n",
       "      <td>0.002186</td>\n",
       "      <td>127.0</td>\n",
       "      <td>1.906929e+03</td>\n",
       "      <td>2908.530898</td>\n",
       "      <td>...</td>\n",
       "      <td>882</td>\n",
       "      <td>836</td>\n",
       "      <td>0</td>\n",
       "      <td>2</td>\n",
       "      <td>0</td>\n",
       "      <td>24</td>\n",
       "      <td>LINESTRING (68.21587 68.09514, 68.21516 68.094...</td>\n",
       "      <td>0</td>\n",
       "      <td>0.0</td>\n",
       "      <td>0.0</td>\n",
       "    </tr>\n",
       "    <tr>\n",
       "      <th>4</th>\n",
       "      <td>68.059351</td>\n",
       "      <td>68.015723</td>\n",
       "      <td>31101000061</td>\n",
       "      <td>13558.006122</td>\n",
       "      <td>68</td>\n",
       "      <td>2.500000</td>\n",
       "      <td>0.032183</td>\n",
       "      <td>108.0</td>\n",
       "      <td>8.799022e+02</td>\n",
       "      <td>2814.993545</td>\n",
       "      <td>...</td>\n",
       "      <td>882</td>\n",
       "      <td>836</td>\n",
       "      <td>0</td>\n",
       "      <td>2</td>\n",
       "      <td>0</td>\n",
       "      <td>24</td>\n",
       "      <td>LINESTRING (68.11334 68.05539, 68.11392 68.055...</td>\n",
       "      <td>0</td>\n",
       "      <td>0.0</td>\n",
       "      <td>0.0</td>\n",
       "    </tr>\n",
       "    <tr>\n",
       "      <th>...</th>\n",
       "      <td>...</td>\n",
       "      <td>...</td>\n",
       "      <td>...</td>\n",
       "      <td>...</td>\n",
       "      <td>...</td>\n",
       "      <td>...</td>\n",
       "      <td>...</td>\n",
       "      <td>...</td>\n",
       "      <td>...</td>\n",
       "      <td>...</td>\n",
       "      <td>...</td>\n",
       "      <td>...</td>\n",
       "      <td>...</td>\n",
       "      <td>...</td>\n",
       "      <td>...</td>\n",
       "      <td>...</td>\n",
       "      <td>...</td>\n",
       "      <td>...</td>\n",
       "      <td>...</td>\n",
       "      <td>...</td>\n",
       "      <td>...</td>\n",
       "    </tr>\n",
       "    <tr>\n",
       "      <th>100180</th>\n",
       "      <td>72.951932</td>\n",
       "      <td>20.761194</td>\n",
       "      <td>45403903196</td>\n",
       "      <td>204.611387</td>\n",
       "      <td>1</td>\n",
       "      <td>4.000000</td>\n",
       "      <td>0.000000</td>\n",
       "      <td>75.0</td>\n",
       "      <td>4.338367e+02</td>\n",
       "      <td>1058.688145</td>\n",
       "      <td>...</td>\n",
       "      <td>3104</td>\n",
       "      <td>2707</td>\n",
       "      <td>0</td>\n",
       "      <td>2</td>\n",
       "      <td>2</td>\n",
       "      <td>34</td>\n",
       "      <td>LINESTRING (72.95180 20.76052, 72.95185 20.760...</td>\n",
       "      <td>791</td>\n",
       "      <td>1.0</td>\n",
       "      <td>1.0</td>\n",
       "    </tr>\n",
       "    <tr>\n",
       "      <th>100181</th>\n",
       "      <td>67.503779</td>\n",
       "      <td>23.973542</td>\n",
       "      <td>45590001316</td>\n",
       "      <td>189.694959</td>\n",
       "      <td>1</td>\n",
       "      <td>0.000000</td>\n",
       "      <td>0.000000</td>\n",
       "      <td>704.0</td>\n",
       "      <td>9.393878e+02</td>\n",
       "      <td>49.745125</td>\n",
       "      <td>...</td>\n",
       "      <td>572</td>\n",
       "      <td>1168</td>\n",
       "      <td>2</td>\n",
       "      <td>-9999</td>\n",
       "      <td>2</td>\n",
       "      <td>5</td>\n",
       "      <td>LINESTRING (67.50290 23.97326, 67.50319 23.973...</td>\n",
       "      <td>801</td>\n",
       "      <td>1.0</td>\n",
       "      <td>1.0</td>\n",
       "    </tr>\n",
       "    <tr>\n",
       "      <th>100182</th>\n",
       "      <td>68.073756</td>\n",
       "      <td>23.823601</td>\n",
       "      <td>45590001326</td>\n",
       "      <td>150.043592</td>\n",
       "      <td>1</td>\n",
       "      <td>1.000000</td>\n",
       "      <td>0.000000</td>\n",
       "      <td>6072.5</td>\n",
       "      <td>1.558735e+06</td>\n",
       "      <td>47.989112</td>\n",
       "      <td>...</td>\n",
       "      <td>3221</td>\n",
       "      <td>2875</td>\n",
       "      <td>2</td>\n",
       "      <td>-9999</td>\n",
       "      <td>2</td>\n",
       "      <td>5</td>\n",
       "      <td>LINESTRING (68.07302 23.82360, 68.07331 23.823...</td>\n",
       "      <td>800</td>\n",
       "      <td>1.0</td>\n",
       "      <td>1.0</td>\n",
       "    </tr>\n",
       "    <tr>\n",
       "      <th>100183</th>\n",
       "      <td>68.280184</td>\n",
       "      <td>23.686241</td>\n",
       "      <td>45590001336</td>\n",
       "      <td>157.735261</td>\n",
       "      <td>1</td>\n",
       "      <td>0.000000</td>\n",
       "      <td>0.000000</td>\n",
       "      <td>366.0</td>\n",
       "      <td>2.018400e+02</td>\n",
       "      <td>23.057209</td>\n",
       "      <td>...</td>\n",
       "      <td>3283</td>\n",
       "      <td>2947</td>\n",
       "      <td>0</td>\n",
       "      <td>1</td>\n",
       "      <td>2</td>\n",
       "      <td>104</td>\n",
       "      <td>LINESTRING (68.28066 23.68570, 68.28042 23.685...</td>\n",
       "      <td>802</td>\n",
       "      <td>1.0</td>\n",
       "      <td>1.0</td>\n",
       "    </tr>\n",
       "    <tr>\n",
       "      <th>100184</th>\n",
       "      <td>82.506552</td>\n",
       "      <td>52.078582</td>\n",
       "      <td>31248600561</td>\n",
       "      <td>303.945860</td>\n",
       "      <td>1</td>\n",
       "      <td>163.475006</td>\n",
       "      <td>0.005625</td>\n",
       "      <td>109.5</td>\n",
       "      <td>5.858889e+02</td>\n",
       "      <td>17422.679473</td>\n",
       "      <td>...</td>\n",
       "      <td>48</td>\n",
       "      <td>183</td>\n",
       "      <td>0</td>\n",
       "      <td>2</td>\n",
       "      <td>2</td>\n",
       "      <td>1</td>\n",
       "      <td>LINESTRING (82.50826 52.07894, 82.50826 52.078...</td>\n",
       "      <td>27</td>\n",
       "      <td>0.0</td>\n",
       "      <td>0.0</td>\n",
       "    </tr>\n",
       "  </tbody>\n",
       "</table>\n",
       "<p>100185 rows × 40 columns</p>\n",
       "</div>"
      ],
      "text/plain": [
       "                x          y     reach_id     reach_len  n_nodes         wse  \\\n",
       "0       68.281779  68.165678  31101000021   2704.046410       14    0.000000   \n",
       "1       68.279176  68.148494  31101000033   1558.394545        8    0.000000   \n",
       "2       68.242202  68.109364  31101000041  13663.348149       68    2.000000   \n",
       "3       68.150080  68.074217  31101000051  12397.855688       62    2.100000   \n",
       "4       68.059351  68.015723  31101000061  13558.006122       68    2.500000   \n",
       "...           ...        ...          ...           ...      ...         ...   \n",
       "100180  72.951932  20.761194  45403903196    204.611387        1    4.000000   \n",
       "100181  67.503779  23.973542  45590001316    189.694959        1    0.000000   \n",
       "100182  68.073756  23.823601  45590001326    150.043592        1    1.000000   \n",
       "100183  68.280184  23.686241  45590001336    157.735261        1    0.000000   \n",
       "100184  82.506552  52.078582  31248600561    303.945860        1  163.475006   \n",
       "\n",
       "         wse_var   width     width_var          facc  ...  path_order  \\\n",
       "0       0.000000   626.0  2.032656e+04   3047.670948  ...         882   \n",
       "1       0.000000   310.0  1.009226e+04   3026.683343  ...         882   \n",
       "2       0.475677   192.0  6.792602e+03   3013.987137  ...         882   \n",
       "3       0.002186   127.0  1.906929e+03   2908.530898  ...         882   \n",
       "4       0.032183   108.0  8.799022e+02   2814.993545  ...         882   \n",
       "...          ...     ...           ...           ...  ...         ...   \n",
       "100180  0.000000    75.0  4.338367e+02   1058.688145  ...        3104   \n",
       "100181  0.000000   704.0  9.393878e+02     49.745125  ...         572   \n",
       "100182  0.000000  6072.5  1.558735e+06     47.989112  ...        3221   \n",
       "100183  0.000000   366.0  2.018400e+02     23.057209  ...        3283   \n",
       "100184  0.005625   109.5  5.858889e+02  17422.679473  ...          48   \n",
       "\n",
       "        path_segs  main_side  strm_order  end_reach  network  \\\n",
       "0             836          0           2          0       24   \n",
       "1             836          0           2          0       24   \n",
       "2             836          0           2          0       24   \n",
       "3             836          0           2          0       24   \n",
       "4             836          0           2          0       24   \n",
       "...           ...        ...         ...        ...      ...   \n",
       "100180       2707          0           2          2       34   \n",
       "100181       1168          2       -9999          2        5   \n",
       "100182       2875          2       -9999          2        5   \n",
       "100183       2947          0           1          2      104   \n",
       "100184        183          0           2          2        1   \n",
       "\n",
       "                                                 geometry  networkGraph  \\\n",
       "0       LINESTRING (68.30357 68.17384, 68.30285 68.173...             0   \n",
       "1       LINESTRING (68.27452 68.15493, 68.27453 68.154...             0   \n",
       "2       LINESTRING (68.28071 68.14183, 68.28000 68.141...             0   \n",
       "3       LINESTRING (68.21587 68.09514, 68.21516 68.094...             0   \n",
       "4       LINESTRING (68.11334 68.05539, 68.11392 68.055...             0   \n",
       "...                                                   ...           ...   \n",
       "100180  LINESTRING (72.95180 20.76052, 72.95185 20.760...           791   \n",
       "100181  LINESTRING (67.50290 23.97326, 67.50319 23.973...           801   \n",
       "100182  LINESTRING (68.07302 23.82360, 68.07331 23.823...           800   \n",
       "100183  LINESTRING (68.28066 23.68570, 68.28042 23.685...           802   \n",
       "100184  LINESTRING (82.50826 52.07894, 82.50826 52.078...            27   \n",
       "\n",
       "        networkGroup_x  networkGroup_y  \n",
       "0                  0.0             0.0  \n",
       "1                  0.0             0.0  \n",
       "2                  0.0             0.0  \n",
       "3                  0.0             0.0  \n",
       "4                  0.0             0.0  \n",
       "...                ...             ...  \n",
       "100180             1.0             1.0  \n",
       "100181             1.0             1.0  \n",
       "100182             1.0             1.0  \n",
       "100183             1.0             1.0  \n",
       "100184             0.0             0.0  \n",
       "\n",
       "[100185 rows x 40 columns]"
      ]
     },
     "execution_count": 60,
     "metadata": {},
     "output_type": "execute_result"
    }
   ],
   "source": [
    "df"
   ]
  },
  {
   "cell_type": "code",
   "execution_count": null,
   "metadata": {},
   "outputs": [],
   "source": []
  },
  {
   "cell_type": "code",
   "execution_count": 56,
   "metadata": {},
   "outputs": [
    {
     "data": {
      "application/vnd.microsoft.datawrangler.viewer.v0+json": {
       "columns": [
        {
         "name": "index",
         "rawType": "int64",
         "type": "integer"
        },
        {
         "name": "networkGraph",
         "rawType": "int64",
         "type": "integer"
        },
        {
         "name": "size",
         "rawType": "int64",
         "type": "integer"
        },
        {
         "name": "cumSum",
         "rawType": "int64",
         "type": "integer"
        },
        {
         "name": "networkGroup",
         "rawType": "float64",
         "type": "float"
        }
       ],
       "conversionMethod": "pd.DataFrame",
       "ref": "128f8d2d-fd08-4b0d-8e59-83c6d1193ff9",
       "rows": [
        [
         "0",
         "0",
         "21",
         "21",
         "0.0"
        ],
        [
         "1",
         "1",
         "10",
         "31",
         "0.0"
        ],
        [
         "2",
         "2",
         "7",
         "38",
         "0.0"
        ],
        [
         "3",
         "3",
         "17",
         "55",
         "0.0"
        ],
        [
         "4",
         "4",
         "11",
         "66",
         "0.0"
        ],
        [
         "5",
         "5",
         "37",
         "103",
         "0.0"
        ],
        [
         "6",
         "6",
         "55",
         "158",
         "0.0"
        ],
        [
         "7",
         "7",
         "64",
         "222",
         "0.0"
        ],
        [
         "8",
         "8",
         "30",
         "252",
         "0.0"
        ],
        [
         "9",
         "9",
         "34",
         "286",
         "0.0"
        ],
        [
         "10",
         "10",
         "23",
         "309",
         "0.0"
        ],
        [
         "11",
         "11",
         "15",
         "324",
         "0.0"
        ],
        [
         "12",
         "12",
         "19",
         "343",
         "0.0"
        ],
        [
         "13",
         "13",
         "19",
         "362",
         "0.0"
        ],
        [
         "14",
         "14",
         "10",
         "372",
         "0.0"
        ],
        [
         "15",
         "15",
         "14",
         "386",
         "0.0"
        ],
        [
         "16",
         "16",
         "10",
         "396",
         "0.0"
        ],
        [
         "17",
         "17",
         "7",
         "403",
         "0.0"
        ],
        [
         "18",
         "18",
         "18",
         "421",
         "0.0"
        ],
        [
         "19",
         "19",
         "10",
         "431",
         "0.0"
        ],
        [
         "20",
         "20",
         "28",
         "459",
         "0.0"
        ],
        [
         "21",
         "21",
         "43",
         "502",
         "0.0"
        ],
        [
         "22",
         "22",
         "8",
         "510",
         "0.0"
        ],
        [
         "23",
         "23",
         "20",
         "530",
         "0.0"
        ],
        [
         "24",
         "24",
         "41",
         "571",
         "0.0"
        ],
        [
         "25",
         "25",
         "13",
         "584",
         "0.0"
        ],
        [
         "26",
         "26",
         "14",
         "598",
         "0.0"
        ],
        [
         "27",
         "27",
         "5484",
         "6082",
         "0.0"
        ],
        [
         "28",
         "28",
         "236",
         "6318",
         "0.0"
        ],
        [
         "29",
         "29",
         "26",
         "6344",
         "0.0"
        ],
        [
         "30",
         "30",
         "33",
         "6377",
         "0.0"
        ],
        [
         "31",
         "31",
         "11",
         "6388",
         "0.0"
        ],
        [
         "32",
         "32",
         "424",
         "6812",
         "0.0"
        ],
        [
         "33",
         "33",
         "4",
         "6816",
         "0.0"
        ],
        [
         "34",
         "34",
         "7",
         "6823",
         "0.0"
        ],
        [
         "35",
         "35",
         "448",
         "7271",
         "0.0"
        ],
        [
         "36",
         "36",
         "6352",
         "13623",
         "0.0"
        ],
        [
         "37",
         "37",
         "162",
         "13785",
         "0.0"
        ],
        [
         "38",
         "38",
         "10",
         "13795",
         "0.0"
        ],
        [
         "39",
         "39",
         "4",
         "13799",
         "0.0"
        ],
        [
         "40",
         "40",
         "4",
         "13803",
         "0.0"
        ],
        [
         "41",
         "41",
         "40",
         "13843",
         "0.0"
        ],
        [
         "42",
         "42",
         "15",
         "13858",
         "0.0"
        ],
        [
         "43",
         "43",
         "8",
         "13866",
         "0.0"
        ],
        [
         "44",
         "44",
         "34",
         "13900",
         "0.0"
        ],
        [
         "45",
         "45",
         "11",
         "13911",
         "0.0"
        ],
        [
         "46",
         "46",
         "5",
         "13916",
         "0.0"
        ],
        [
         "47",
         "47",
         "6",
         "13922",
         "0.0"
        ],
        [
         "48",
         "48",
         "4",
         "13926",
         "0.0"
        ],
        [
         "49",
         "49",
         "4",
         "13930",
         "0.0"
        ]
       ],
       "shape": {
        "columns": 4,
        "rows": 854
       }
      },
      "text/html": [
       "<div>\n",
       "<style scoped>\n",
       "    .dataframe tbody tr th:only-of-type {\n",
       "        vertical-align: middle;\n",
       "    }\n",
       "\n",
       "    .dataframe tbody tr th {\n",
       "        vertical-align: top;\n",
       "    }\n",
       "\n",
       "    .dataframe thead th {\n",
       "        text-align: right;\n",
       "    }\n",
       "</style>\n",
       "<table border=\"1\" class=\"dataframe\">\n",
       "  <thead>\n",
       "    <tr style=\"text-align: right;\">\n",
       "      <th></th>\n",
       "      <th>networkGraph</th>\n",
       "      <th>size</th>\n",
       "      <th>cumSum</th>\n",
       "      <th>networkGroup</th>\n",
       "    </tr>\n",
       "  </thead>\n",
       "  <tbody>\n",
       "    <tr>\n",
       "      <th>0</th>\n",
       "      <td>0</td>\n",
       "      <td>21</td>\n",
       "      <td>21</td>\n",
       "      <td>0.0</td>\n",
       "    </tr>\n",
       "    <tr>\n",
       "      <th>1</th>\n",
       "      <td>1</td>\n",
       "      <td>10</td>\n",
       "      <td>31</td>\n",
       "      <td>0.0</td>\n",
       "    </tr>\n",
       "    <tr>\n",
       "      <th>2</th>\n",
       "      <td>2</td>\n",
       "      <td>7</td>\n",
       "      <td>38</td>\n",
       "      <td>0.0</td>\n",
       "    </tr>\n",
       "    <tr>\n",
       "      <th>3</th>\n",
       "      <td>3</td>\n",
       "      <td>17</td>\n",
       "      <td>55</td>\n",
       "      <td>0.0</td>\n",
       "    </tr>\n",
       "    <tr>\n",
       "      <th>4</th>\n",
       "      <td>4</td>\n",
       "      <td>11</td>\n",
       "      <td>66</td>\n",
       "      <td>0.0</td>\n",
       "    </tr>\n",
       "    <tr>\n",
       "      <th>...</th>\n",
       "      <td>...</td>\n",
       "      <td>...</td>\n",
       "      <td>...</td>\n",
       "      <td>...</td>\n",
       "    </tr>\n",
       "    <tr>\n",
       "      <th>849</th>\n",
       "      <td>849</td>\n",
       "      <td>53</td>\n",
       "      <td>100144</td>\n",
       "      <td>1.0</td>\n",
       "    </tr>\n",
       "    <tr>\n",
       "      <th>850</th>\n",
       "      <td>850</td>\n",
       "      <td>12</td>\n",
       "      <td>100156</td>\n",
       "      <td>1.0</td>\n",
       "    </tr>\n",
       "    <tr>\n",
       "      <th>851</th>\n",
       "      <td>851</td>\n",
       "      <td>25</td>\n",
       "      <td>100181</td>\n",
       "      <td>1.0</td>\n",
       "    </tr>\n",
       "    <tr>\n",
       "      <th>852</th>\n",
       "      <td>852</td>\n",
       "      <td>2</td>\n",
       "      <td>100183</td>\n",
       "      <td>1.0</td>\n",
       "    </tr>\n",
       "    <tr>\n",
       "      <th>853</th>\n",
       "      <td>853</td>\n",
       "      <td>2</td>\n",
       "      <td>100185</td>\n",
       "      <td>1.0</td>\n",
       "    </tr>\n",
       "  </tbody>\n",
       "</table>\n",
       "<p>854 rows × 4 columns</p>\n",
       "</div>"
      ],
      "text/plain": [
       "     networkGraph  size  cumSum  networkGroup\n",
       "0               0    21      21           0.0\n",
       "1               1    10      31           0.0\n",
       "2               2     7      38           0.0\n",
       "3               3    17      55           0.0\n",
       "4               4    11      66           0.0\n",
       "..            ...   ...     ...           ...\n",
       "849           849    53  100144           1.0\n",
       "850           850    12  100156           1.0\n",
       "851           851    25  100181           1.0\n",
       "852           852     2  100183           1.0\n",
       "853           853     2  100185           1.0\n",
       "\n",
       "[854 rows x 4 columns]"
      ]
     },
     "execution_count": 56,
     "metadata": {},
     "output_type": "execute_result"
    }
   ],
   "source": [
    "dfNS"
   ]
  }
 ],
 "metadata": {
  "kernelspec": {
   "display_name": "Python 3",
   "language": "python",
   "name": "python3"
  },
  "language_info": {
   "codemirror_mode": {
    "name": "ipython",
    "version": 3
   },
   "file_extension": ".py",
   "mimetype": "text/x-python",
   "name": "python",
   "nbconvert_exporter": "python",
   "pygments_lexer": "ipython3",
   "version": "3.12.3"
  }
 },
 "nbformat": 4,
 "nbformat_minor": 2
}
