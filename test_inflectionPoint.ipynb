{
 "cells": [
  {
   "cell_type": "code",
   "execution_count": 90,
   "metadata": {},
   "outputs": [
    {
     "name": "stdout",
     "output_type": "stream",
     "text": [
      "The autoreload extension is already loaded. To reload it, use:\n",
      "  %reload_ext autoreload\n"
     ]
    }
   ],
   "source": [
    "%load_ext autoreload\n",
    "%autoreload 2\n",
    "import geopandas as gpd\n",
    "directory = '/scratch/6256481/'\n",
    "\n",
    "\n",
    "import sys\n",
    "sys.path.insert(0, directory + f'python/py_code/')\n",
    "import numpy as np\n",
    "from support import get_local_utm_projection, node_position, adjust_new_segments\n",
    "from cycle_identification import find_connected_side\n",
    "from get_orthogonals import get_orthogonals\n",
    "from dem import find_dem\n",
    "\n",
    "from shapely.geometry import Point, LineString\n",
    "\n",
    "from support import create_dir\n",
    "from glob import glob\n",
    "# from python.py_code.old.remove_mannual_add import remove_manual_add, remove_man_add\n",
    "\n",
    "from line_functions import get_bend_dist_out\n",
    "\n",
    "\n",
    "import pandas as pd\n",
    "# from python.py_code.old.reach_def import create_ud_id, create_new_segments\n",
    "\n",
    "from datetime import datetime as dt\n",
    "from inflection_points import inflection_points, inflection_points_curve\n",
    "\n",
    "\n",
    "from connect_geometries import merge_centerlines\n",
    "from smoothing import SG_smoothing\n",
    "from tqdm import tqdm\n",
    "\n",
    "import matplotlib.pyplot as plt\n",
    "import warnings\n",
    "warnings.filterwarnings(\"ignore\")\n",
    "\n",
    "import xarray as xr\n",
    "import shapely\n"
   ]
  },
  {
   "cell_type": "code",
   "execution_count": 91,
   "metadata": {},
   "outputs": [],
   "source": [
    "singleConfFiles = np.sort(glob(directory + f'results/single_values/*conf.nc'))"
   ]
  },
  {
   "cell_type": "code",
   "execution_count": 92,
   "metadata": {},
   "outputs": [],
   "source": [
    "c = 'as'\n",
    "i = '12'\n",
    "\n",
    "create_new = False\n",
    "vector_save_file = directory +f'results/new_segments/vector/{c}_{i}_reach_new_segments.gpkg'\n",
    "node_save_file   = directory +f'results/new_segments/node/{c}_{i}_node_new_segments.gpkg' "
   ]
  },
  {
   "cell_type": "code",
   "execution_count": null,
   "metadata": {},
   "outputs": [],
   "source": [
    "df       = gpd.read_file(vector_save_file)\n",
    "dfNode   = gpd.read_file(node_save_file)\n",
    "\n",
    "df = adjust_new_segments(df)"
   ]
  },
  {
   "cell_type": "code",
   "execution_count": null,
   "metadata": {},
   "outputs": [],
   "source": [
    "dfCF = pd.read_csv(directory + 'results/confinement_factor.csv')"
   ]
  },
  {
   "cell_type": "code",
   "execution_count": null,
   "metadata": {},
   "outputs": [],
   "source": [
    "dftest  = gpd.read_file(glob.glob(directory + 'input/SWOT_vector/af*.gpkg')[0])\n",
    "dfNtest = gpd.read_file(glob.glob(directory + 'input/SWOT_nodes/af*.gpkg')[0])"
   ]
  },
  {
   "cell_type": "code",
   "execution_count": null,
   "metadata": {},
   "outputs": [],
   "source": [
    "# files = np.sort(glob.glob(directory +f'results/new_segments/vector/??_??_*.gpkg'))\n",
    "\n",
    "# for i, f in enumerate(files):\n",
    "#     D = gpd.read_file(f)\n",
    "#     D['file_cont'] = f[-29:-27]\n",
    "#     D['file_id']   = f[-26:-24]\n",
    "    \n",
    "#     if i == 0:\n",
    "#         dfT = D.copy()\n",
    "#     else:\n",
    "#         dfT = pd.concat([dfT, D], ignore_index = True)\n",
    "# dfT['file'] = dfT['file_cont'] +'_'+ dfT['file_id']\n",
    "# dfInc = dfT[dfT['include_flag'] == '0']"
   ]
  },
  {
   "cell_type": "code",
   "execution_count": null,
   "metadata": {},
   "outputs": [],
   "source": [
    "def plot(combinedLine, combinedLineSmooth, infP, infPTotal,apexP, apexPO):\n",
    "    f, ax = plt.subplots(nrows=1, ncols=1, figsize = [10,6], sharey=True)\n",
    "\n",
    "    ax.plot(*combinedLine.xy      , color = 'orange'   , zorder = 0)\n",
    "    ax.plot(*combinedLineSmooth.xy, color = 'chocolate', zorder = 10, linestyle = '--')\n",
    "\n",
    "    # plot inflections\n",
    "    if isinstance(infP, list):\n",
    "        for i, ip in enumerate(infP):\n",
    "            plt.scatter(*ip.xy, zorder = 100, c = 'black', marker = '.')\n",
    "        for i, ip in enumerate(infPTotal):\n",
    "            plt.scatter(*ip.xy, zorder = 80, c = 'lime', marker = '.')\n",
    "    if isinstance(apexP, list):\n",
    "        for i, ap in enumerate(apexP):\n",
    "            plt.scatter(*ap.xy, zorder = 100, c = 'red', marker = '^')\n",
    "            plt.scatter(*apexPO[i].xy, zorder = 100, c = 'red', marker = '1')\n",
    "            \n",
    "\n",
    "    ax.set_aspect('equal', adjustable='box')\n",
    "    ax.axis('off')\n",
    "\n",
    "\n",
    "\n",
    "    plt.tight_layout()\n",
    "    plt.show()\n",
    "\n",
    "def plot_inflection_points_curve(inf, infT, apexP, apexPO, line, lineO):\n",
    "    plt.figure(figsize=[10,8])\n",
    "        # plt.scatter(*testApex, label = arcSign[ip], marker = '^', s = 25, zorder = 200, c = 'green')\n",
    "    # for i in range(len(apexP)):\n",
    "    #     plt.scatter(*apexP[i].xy , s = 30, marker = 'h', zorder = 150, c = 'red')\n",
    "    #     plt.scatter(*apexPO[i].xy, s = 30, marker = '1', zorder = 100, c = 'red')\n",
    "\n",
    "    for i in range(len(inf)):\n",
    "        plt.scatter(*inf[i]    , s = 30, marker = '.', zorder = 100, c = 'limegreen')\n",
    "        # plt.scatter(*inf[i]    , s = 20, marker = '.', zorder = 100, label = i) \n",
    "    plt.scatter(*inf[i]    , s = 100, marker = '.', zorder = 100, c = 'limegreen')\n",
    "\n",
    "    for i,p in enumerate(infT):\n",
    "        plt.scatter(*p    , s = 30, marker = '.', zorder = 50, c = 'black')\n",
    "\n",
    "    plt.plot(*line.xy , zorder = 10, color = 'blue', linestyle = '--')\n",
    "    plt.plot(*lineO.xy, zorder = 5 , color = 'cyan', linestyle = '-')\n",
    "    plt.axis('equal')\n",
    "    plt.axis('off')\n",
    "    # plt.legend()\n",
    "    plt.show()\n"
   ]
  },
  {
   "cell_type": "code",
   "execution_count": null,
   "metadata": {},
   "outputs": [
    {
     "data": {
      "text/plain": [
       "48173"
      ]
     },
     "execution_count": 71,
     "metadata": {},
     "output_type": "execute_result"
    }
   ],
   "source": [
    "int(df[df['reach_id'] == 45254000021]['combined_reach_id'].iloc[0])\n",
    "# df.iloc[0:10].combined_reach_id.values"
   ]
  },
  {
   "cell_type": "code",
   "execution_count": null,
   "metadata": {},
   "outputs": [
    {
     "data": {
      "text/plain": [
       "array([ 0.,  1.,  2.,  7.,  6.,  5.,  4.,  3., 26., 25., 24., 23., 22.,\n",
       "       21., 20., 19., 18., 17., 16., 15.])"
      ]
     },
     "execution_count": 52,
     "metadata": {},
     "output_type": "execute_result"
    }
   ],
   "source": [
    "df[df['combined_reach_id'] == 48126]['reach_id'].values\n",
    "ids = df.loc[df['include_flag'] == '0','combined_reach_id'].unique()\n",
    "ids[0:20]"
   ]
  },
  {
   "cell_type": "code",
   "execution_count": null,
   "metadata": {},
   "outputs": [
    {
     "name": "stderr",
     "output_type": "stream",
     "text": [
      "  0%|          | 0/3 [00:00<?, ?it/s]"
     ]
    },
    {
     "name": "stdout",
     "output_type": "stream",
     "text": [
      "48120 [45253000241 45253000251 45253000261 45253000271 45253000281 45253000291]\n",
      "[1061  683  899 1571    0]\n",
      "[2600.91578947 1666.44186047 1760.16153846 2536.03333333   95.38898517]\n"
     ]
    },
    {
     "data": {
      "image/png": "[encoded data removed]",
      "text/plain": [
       "<Figure size 1000x800 with 1 Axes>"
      ]
     },
     "metadata": {},
     "output_type": "display_data"
    },
    {
     "name": "stderr",
     "output_type": "stream",
     "text": [
      " 33%|███▎      | 1/3 [00:02<00:05,  2.56s/it]"
     ]
    },
    {
     "name": "stdout",
     "output_type": "stream",
     "text": [
      "70721.80170928055 [19044.71445476  8600.21505614 12912.96617188 30163.90602649]\n",
      "48119 [45253000301 45253000361 45253000321 45253000331 45253000341 45253000351\n",
      " 45253000371 45253000381 45253000391 45253000401 45253000411 45253000421\n",
      " 45253000431 45253000444 45253000451 45253000461 45253000474]\n",
      "[  68  109  852 1115  733  930    0]\n",
      "[  68.95652174  410.64516129 3990.08027523 2262.42982456 3145.40926641\n",
      " 1757.04263566   36.81152428]\n"
     ]
    },
    {
     "data": {
      "image/png": "[encoded data removed]",
      "text/plain": [
       "<Figure size 1000x800 with 1 Axes>"
      ]
     },
     "metadata": {},
     "output_type": "display_data"
    },
    {
     "name": "stderr",
     "output_type": "stream",
     "text": [
      " 67%|██████▋   | 2/3 [00:09<00:05,  5.13s/it]"
     ]
    },
    {
     "name": "stdout",
     "output_type": "stream",
     "text": [
      "143717.85001436347 [ 4624.77023238  6160.91340858 43637.86486584 11244.27535271\n",
      " 51932.71498696 26117.31116789]\n",
      "48173 [45254000021 45254000031 45254000041 45254000051 45254000061 45254000071]\n",
      "[ 569    0  787  784 2798]\n",
      "[1280.28985507  338.2467977  1388.06666667 1930.47540984 7446.65986395]\n"
     ]
    },
    {
     "data": {
      "image/png": "[encoded data removed]",
      "text/plain": [
       "<Figure size 1000x800 with 1 Axes>"
      ]
     },
     "metadata": {},
     "output_type": "display_data"
    },
    {
     "name": "stderr",
     "output_type": "stream",
     "text": [
      "100%|██████████| 3/3 [00:11<00:00,  3.99s/it]"
     ]
    },
    {
     "name": "stdout",
     "output_type": "stream",
     "text": [
      "61895.77417375044 [13720.84471857  5904.85540597 12174.5998718  29578.28240295]\n"
     ]
    },
    {
     "name": "stderr",
     "output_type": "stream",
     "text": [
      "\n"
     ]
    }
   ],
   "source": [
    "minLenFactor = 4*12\n",
    "\n",
    "ids = df.loc[df['include_flag'] == '0','combined_reach_id'].unique()\n",
    "\n",
    "# ids = [622,621, 677, 625, 545, 491, 492,494]\n",
    "ids = [625, 545] # contains short straight sections (eu - 00)\n",
    "\n",
    "ids = [625, 545, 0.,  1.,  2.,  7.,  6.,  5.,  4.,  3., 26., 25., 24., 23., 22.,\n",
    "       21., 20., 19., 18., 17., 16., 15.]\n",
    "ids = [48120, 48119, 48173, 35504, 36312, 34818, 35551] #[45588]\n",
    "\n",
    "dfSF = pd.read_csv(directory + 'results/smoothingFactor.csv')\n",
    "\n",
    "for id in tqdm(ids):\n",
    "        \n",
    "        dfReach      = df[df['combined_reach_id'] == id].copy()\n",
    "        dfReachNodes = dfNode[dfNode['reach_id'].isin(dfReach['reach_id'].values)].copy()\n",
    "        print(id, dfReach.reach_id.values)\n",
    "\n",
    "        dfReach.loc[dfReach['max_width'] < dfReach['width'], 'max_width']                = dfReach['width']\n",
    "        dfReachNodes.loc[dfReachNodes['max_width'] < dfReachNodes['width'], 'max_width'] = dfReachNodes['width']\n",
    "\n",
    "        GroupedCRS = dfReach.groupby('localCRS', as_index = False).size()\n",
    "        reachCRS   = GroupedCRS.loc[GroupedCRS['size'] == GroupedCRS['size'].max()\n",
    "                                    ,'localCRS'].iloc[0]\n",
    "        \n",
    "        dfReach      = dfReach.to_crs(reachCRS)\n",
    "        dfReachNodes = dfReachNodes.to_crs(reachCRS)\n",
    "\n",
    "        combinedLine, _, _ = merge_centerlines(dfReach, df, reachCRS)\n",
    "        \n",
    "        dfReachNodes = node_position(combinedLine, dfReachNodes)\n",
    "        \n",
    "        groupVals = dfReach.iloc[0]\n",
    "        maxWidth = groupVals['combined_reach_max_width']\n",
    "        width    = groupVals['combined_reach_width']\n",
    "        \n",
    "        if np.isnan(maxWidth):\n",
    "                maxWidth = dfReachNodes['max_width'].mean()\n",
    "\n",
    "\n",
    "        reachLen = groupVals['combined_reach_len']\n",
    "        \n",
    "        factorWidth = width\n",
    "        minLen      = minLenFactor * maxWidth\n",
    "        ###########################\n",
    "        # Smoothing\n",
    "        ###########################\n",
    "        factorRow       = abs(dfSF['combined_reach_width'] - width).argsort()\n",
    "        smoothingFactor = dfSF.loc[factorRow, 'smoothFactor'].iloc[0]\n",
    "        maxWidth = huber_mean(dfReachNodes['max_width'])\n",
    "        smoothing_window = smoothingFactor*int(maxWidth)         # Smoothing window based on mean node max width\n",
    "\n",
    "        combinedLineSmooth = SG_smoothing(combinedLine, smoothing_window, maxWidth)\n",
    "\n",
    " \n",
    "        if len(combinedLineSmooth.coords) < 3:\n",
    "            combinedLineSmooth = combinedLineSmooth.segmentize(400) \n",
    "\n",
    "        # dt1 = dt.now()\n",
    "        # (sin, infP, infPTotal,\n",
    "        #     apex, apexP,apexPO,\n",
    "        #     ang, bendLines, bendWidths, bendMaxWidths, bendDO) = inflection_points(combinedLineSmooth, \n",
    "        #                                 dfReach, dfReachNodes,\n",
    "        #                                 reachCRS,\n",
    "        #                                 degree = 0,\n",
    "        #                                 end_points = True)  \n",
    "        # dt2 = dt.now()\n",
    "        # print('oldMethod: ', dt2 - dt1)\n",
    "        # checkLines.append(combinedLineSmooth)\n",
    "\n",
    "        # apex      = np.array2string(apex, separator = ', ')\n",
    "        # ang       = np.array2string(ang, separator = ', ')\n",
    "\n",
    "        # apexP_wkt         = str([I.wkt for I in apexP.copy()])\n",
    "        # infP_wkt          = str([I.wkt for I in infP.copy()])\n",
    "        # bendLines_wkt     = str([I.wkt for I in bendLines.copy()])\n",
    "        # bendWidths_str    = np.array2string(bendWidths, separator = ', ')\n",
    "        # bendMaxWidths_str = np.array2string(bendMaxWidths, separator = ', ')\n",
    "        # calculated = '0'\n",
    "\n",
    "\n",
    "        # plot(combinedLine, combinedLineSmooth, infP, infPTotal,apexP, apexPO)\n",
    "        # print(sin)\n",
    "        dt1 = dt.now()\n",
    "        (sin, bendSin,inf, infT, amplitudes, apexPList, apexPOList, curveList, bendLines, \n",
    "                infLines,bendWidths, bendMaxWidths, bendDO, bendLen) = inflection_points_curve(combinedLineSmooth, dfReach, dfReachNodes)\n",
    "        dt2 = dt.now()\n",
    "        # print('newMethod: ', dt2 - dt1)\n",
    "        plot_inflection_points_curve(inf,infT, apexPList, apexPOList, combinedLineSmooth, combinedLine)\n",
    "        print(combinedLineSmooth.length, bendLen)\n",
    "        # print()\n",
    "        \n",
    "        # print("
   ]
  },
  {
   "cell_type": "code",
   "execution_count": null,
   "metadata": {},
   "outputs": [
    {
     "data": {
      "text/plain": [
       "<Axes: ylabel='Frequency'>"
      ]
     },
     "execution_count": 77,
     "metadata": {},
     "output_type": "execute_result"
    },
    {
     "data": {
      "image/png": "[encoded data removed]",
      "text/plain": [
       "<Figure size 640x480 with 1 Axes>"
      ]
     },
     "metadata": {},
     "output_type": "display_data"
    }
   ],
   "source": [
    "dfReachNodes['width'].plot.hist(bins = 100)"
   ]
  },
  {
   "cell_type": "code",
   "execution_count": null,
   "metadata": {},
   "outputs": [
    {
     "name": "stdout",
     "output_type": "stream",
     "text": [
      "Huber Mean: 12.00000065480583\n"
     ]
    },
    {
     "data": {
      "text/plain": [
       "(1992.561872909699, 2437.9471299093657, 782.6340094941577, 763.5)"
      ]
     },
     "execution_count": 85,
     "metadata": {},
     "output_type": "execute_result"
    }
   ],
   "source": [
    "dfReachNodes['width'].mean()\n",
    "dfReachNodes['width'].median()\n",
    "\n",
    "import numpy as np\n",
    "from scipy import stats\n",
    "x = [1, 2, 3, 5]\n",
    "\n",
    "\n",
    "import numpy as np\n",
    "\n",
    "def huber_mean(data, max_iter=100, tol=1e-6):\n",
    "    data = np.asarray(data)\n",
    "    median = np.median(data)\n",
    "    mad = np.median(np.abs(data - median))  # Median absolute deviation\n",
    "\n",
    "    # Set delta to 1.5 * MAD (a common robust default)\n",
    "    delta = 1.5 * mad if mad > 0 else 1.0\n",
    "\n",
    "    mu = np.mean(data)  # initial estimate\n",
    "\n",
    "    for _ in range(max_iter):\n",
    "        diff = data - mu\n",
    "        weights = np.where(np.abs(diff) <= delta, 1, delta / np.abs(diff))\n",
    "        new_mu = np.sum(weights * data) / np.sum(weights)\n",
    "        if abs(new_mu - mu) < tol:\n",
    "            break\n",
    "        mu = new_mu\n",
    "\n",
    "    return mu\n",
    "\n",
    "# Example\n",
    "data = [10, 12, 11, 13, 100]  # 100 is an outlier\n",
    "print(\"Huber Mean:\", huber_mean(data))\n",
    "\n",
    "stats.trim_mean(dfReachNodes['width'], 0.05), dfReachNodes['width'].mean(),huber_mean(dfReachNodes['width']), np.median(dfReachNodes['width'])\n"
   ]
  }
 ],
 "metadata": {
  "kernelspec": {
   "display_name": "Python 3",
   "language": "python",
   "name": "python3"
  },
  "language_info": {
   "codemirror_mode": {
    "name": "ipython",
    "version": 3
   },
   "file_extension": ".py",
   "mimetype": "text/x-python",
   "name": "python",
   "nbconvert_exporter": "python",
   "pygments_lexer": "ipython3",
   "version": "3.12.3"
  }
 },
 "nbformat": 4,
 "nbformat_minor": 2
}
